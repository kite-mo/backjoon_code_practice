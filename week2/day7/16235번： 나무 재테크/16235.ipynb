{
 "cells": [
  {
   "cell_type": "code",
   "execution_count": 48,
   "metadata": {},
   "outputs": [
    {
     "name": "stdout",
     "output_type": "stream",
     "text": [
      "2\n"
     ]
    }
   ],
   "source": [
    "import sys\n",
    "import heapq\n",
    "\n",
    "sys.stdin = open('./test.txt')\n",
    "N, M, K = map(int, sys.stdin.readline().split())\n",
    "\n",
    "N_array = [[5]*(N) for i in range(N)]\n",
    "\n",
    "A_array = [list(map(int, sys.stdin.readline().split())) for i in range(N)]\n",
    "tree_array = [list(map(int, sys.stdin.readline().split())) for i in range(M)]\n",
    "tree_info_array = [(array[2], [array[0]-1, array[1]-1, True]) for array in tree_array]\n",
    "\n",
    "dx = [-1, -1, 0, 1, 1, 1, 0, -1]\n",
    "dy = [0, -1, -1, -1, 0, 1, 1, 1]\n",
    "\n",
    "for k in range(K):\n",
    "\n",
    "    sorted_tree_array = []\n",
    "    for item in tree_info_array:\n",
    "        heapq.heappush(sorted_tree_array, item)\n",
    "\n",
    "    # spring\n",
    "    spring_tree_array = []\n",
    "    # for i in range(len(sorted_tree_array)):\n",
    "    while sorted_tree_array:\n",
    "        tree_info = heapq.heappop(sorted_tree_array)\n",
    "        age, other_info = tree_info\n",
    "        x, y, alive = other_info\n",
    "\n",
    "        if N_array[x][y] >= age:\n",
    "            N_array[x][y] -= age\n",
    "            age += 1\n",
    "        else:\n",
    "            alive = False\n",
    "\n",
    "        new_info = [x, y, age, alive]\n",
    "        spring_tree_array.append(new_info)\n",
    "    \n",
    "    # summer\n",
    "    summer_tree_array = []\n",
    "    for tree_info in spring_tree_array:\n",
    "        x, y, age, alive = tree_info\n",
    "        if alive == False:\n",
    "            N_array[x][y] += age//2\n",
    "        else:\n",
    "            summer_tree_array.append(tree_info)\n",
    "            \n",
    "    # fall\n",
    "    fall_tree_array = []\n",
    "    for tree_info in summer_tree_array:\n",
    "        x, y, age, alive = tree_info\n",
    "        fall_tree_array.append((age, [x, y, alive]))\n",
    "        if age % 5 == 0:\n",
    "            for i in range(8):\n",
    "                new_x, new_y = x + dx[i], y + dy[i]\n",
    "                if 0<=new_x<N and 0<=new_y<N:\n",
    "                    age = 1\n",
    "                    alive = True\n",
    "                    fall_tree_array.append((age, [new_x, new_y, True]))\n",
    "\n",
    "    tree_info_array = fall_tree_array\n",
    "\n",
    "    # winter\n",
    "    for x in range(N):\n",
    "        for y in range(N):\n",
    "            N_array[x][y] += A_array[x][y]\n",
    "\n",
    "alive_tree_counts = sum([tree_info[1][-1] for tree_info in tree_info_array])\n",
    "print(alive_tree_counts)"
   ]
  },
  {
   "cell_type": "code",
   "execution_count": 112,
   "metadata": {},
   "outputs": [
    {
     "name": "stdout",
     "output_type": "stream",
     "text": [
      "85\n"
     ]
    }
   ],
   "source": [
    "import sys\n",
    "import heapq\n",
    "from collections import deque\n",
    "\n",
    "sys.stdin = open('./test.txt')\n",
    "N, M, K = map(int, sys.stdin.readline().split())\n",
    "\n",
    "N_array = [[5]*(N) for i in range(N)]\n",
    "A_array = [list(map(int, sys.stdin.readline().split())) for i in range(N)]\n",
    "tree_array = [list(map(int, sys.stdin.readline().split())) for i in range(M)]\n",
    "tree_deque_array = [[deque() for i in range(N)] for i in range(N)]\n",
    "for tree_info in tree_array:\n",
    "    x, y, age = tree_info\n",
    "    tree_deque_array[x-1][y-1].appendleft(age)\n",
    "\n",
    "dx = [-1, -1, 0, 1, 1, 1, 0, -1]\n",
    "dy = [0, -1, -1, -1, 0, 1, 1, 1]\n",
    "\n",
    "for k in range(K):\n",
    "\n",
    "    fall_tree_index = []\n",
    "    # spring and summer\n",
    "    for x in range(N):\n",
    "        for y in range(N):\n",
    "            new_queue = deque()\n",
    "            energy = 0\n",
    "            while tree_deque_array[x][y]:\n",
    "                age = tree_deque_array[x][y].popleft()\n",
    "                if N_array[x][y] >= age:\n",
    "                    N_array[x][y] -= age\n",
    "                    age += 1\n",
    "                    new_queue.append(age)\n",
    "                    if age % 5 == 0:\n",
    "                        fall_tree_index.append([x, y])\n",
    "                else:\n",
    "                    energy += age//2\n",
    "\n",
    "            N_array[x][y] += energy\n",
    "            tree_deque_array[x][y] = new_queue\n",
    "\n",
    "    # fall\n",
    "    if len(fall_tree_index) > 0:\n",
    "        for x, y in fall_tree_index:\n",
    "            for i in range(8):\n",
    "                new_x, new_y = x + dx[i], y + dy[i]\n",
    "                if 0<=new_x<N and 0<=new_y<N:\n",
    "                    tree_deque_array[new_x][new_y].appendleft(1)\n",
    "\n",
    "    # winter\n",
    "    for x in range(N):\n",
    "        for y in range(N):\n",
    "            N_array[x][y] += A_array[x][y]\n",
    "\n",
    "count = 0\n",
    "for i in range(N):\n",
    "    for j in range(N):\n",
    "        if len(tree_deque_array[i][j]) > 0:\n",
    "            count += len(tree_deque_array[i][j])\n",
    "\n",
    "print(count)"
   ]
  },
  {
   "cell_type": "code",
   "execution_count": 111,
   "metadata": {},
   "outputs": [
    {
     "data": {
      "text/plain": [
       "{(0, 0),\n",
       " (0, 1),\n",
       " (1, 0),\n",
       " (1, 1),\n",
       " (1, 2),\n",
       " (2, 1),\n",
       " (2, 2),\n",
       " (3, 0),\n",
       " (3, 1),\n",
       " (3, 2)}"
      ]
     },
     "execution_count": 111,
     "metadata": {},
     "output_type": "execute_result"
    }
   ],
   "source": [
    "fall_tree_set"
   ]
  },
  {
   "cell_type": "markdown",
   "metadata": {},
   "source": []
  },
  {
   "cell_type": "code",
   "execution_count": null,
   "metadata": {},
   "outputs": [],
   "source": []
  }
 ],
 "metadata": {
  "kernelspec": {
   "display_name": "base",
   "language": "python",
   "name": "python3"
  },
  "language_info": {
   "codemirror_mode": {
    "name": "ipython",
    "version": 3
   },
   "file_extension": ".py",
   "mimetype": "text/x-python",
   "name": "python",
   "nbconvert_exporter": "python",
   "pygments_lexer": "ipython3",
   "version": "3.9.13"
  }
 },
 "nbformat": 4,
 "nbformat_minor": 2
}
