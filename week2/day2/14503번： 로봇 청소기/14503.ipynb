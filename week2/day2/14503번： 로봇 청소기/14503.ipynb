{
 "cells": [
  {
   "cell_type": "code",
   "execution_count": 27,
   "metadata": {},
   "outputs": [],
   "source": [
    "def check_clean_room(room_array, start_x, start_y, N, M):\n",
    "    move_range = [(1,0), (-1,0), (0,1), (0,-1)]\n",
    "    check_num = set([])\n",
    "    room_available = False\n",
    "\n",
    "    for move_x, move_y in move_range:\n",
    "        dx, dy = start_x+move_x, start_y+move_y \n",
    "\n",
    "        if 0 <= dx < N and 0 <= dy < M:\n",
    "            room_status = room_array[dx][dy]\n",
    "            check_num.add(room_status)\n",
    "\n",
    "    if 0 not in check_num:\n",
    "        return room_available\n",
    "    else:\n",
    "        room_available = True\n",
    "        return room_available\n",
    "    \n",
    "def check_return_case(room_array, start_x, start_y, robot_direction, N, M, robot_running):\n",
    "    dx = [-1, 0, 1, 0]\n",
    "    dy = [0, 1, 0, -1]\n",
    "    return_direction = (robot_direction+2)%4\n",
    "    dx, dy = start_x + dx[return_direction], start_y + dy[return_direction]\n",
    "\n",
    "    if 0<=dx<N and 0<=dy<M and room_array[dx][dy] == 1:\n",
    "        robot_running = False\n",
    "        return dx, dy, robot_running\n",
    "    else:\n",
    "        return dx, dy, robot_running\n",
    "\n",
    "def clean_room_status(room_array, start_x, start_y, robot_direction, N, M):\n",
    "    dx = [-1, 0, 1, 0]\n",
    "    dy = [0, 1, 0, -1]\n",
    "    reverse_clock_direction = robot_direction\n",
    "\n",
    "    for i in range(4):\n",
    "        reverse_clock_direction = (reverse_clock_direction + 3) % 4\n",
    "        move_x, move_y = start_x + dx[reverse_clock_direction], start_y + dy[reverse_clock_direction]\n",
    "\n",
    "        if 0<=move_x<N and 0<=move_y<M and room_array[move_x][move_y] == 0:\n",
    "            return move_x, move_y, reverse_clock_direction\n"
   ]
  },
  {
   "cell_type": "code",
   "execution_count": 28,
   "metadata": {},
   "outputs": [
    {
     "name": "stdout",
     "output_type": "stream",
     "text": [
      "57\n"
     ]
    }
   ],
   "source": [
    "import sys\n",
    "\n",
    "sys.stdin = open('./test.txt')\n",
    "\n",
    "N, M = list(map(int, sys.stdin.readline().strip().split()))\n",
    "start_x, start_y, robot_direction = list(map(int, sys.stdin.readline().strip().split()))\n",
    "room_array = [list(map(int, line.strip().split())) for line in sys.stdin.readlines()]\n",
    "\n",
    "# 시작 위치 청소\n",
    "room_array[start_x][start_y] = 2\n",
    "count_clean = 0\n",
    "count_clean += 1\n",
    "robot_running = True\n",
    "while robot_running:\n",
    "    room_available = check_clean_room(room_array, start_x, start_y, N, M)\n",
    "    if not room_available:\n",
    "        start_x, start_y, robot_running = check_return_case(\n",
    "            room_array, start_x, start_y, robot_direction, N, M, robot_running\n",
    "        )\n",
    "    else:\n",
    "        start_x, start_y, robot_direction = clean_room_status(\n",
    "            room_array, start_x, start_y, robot_direction, N, M\n",
    "        )\n",
    "        room_array[start_x][start_y] = 2\n",
    "        count_clean += 1\n",
    "\n",
    "print(count_clean)"
   ]
  },
  {
   "cell_type": "code",
   "execution_count": null,
   "metadata": {},
   "outputs": [],
   "source": []
  },
  {
   "cell_type": "code",
   "execution_count": null,
   "metadata": {},
   "outputs": [],
   "source": []
  }
 ],
 "metadata": {
  "kernelspec": {
   "display_name": "base",
   "language": "python",
   "name": "python3"
  },
  "language_info": {
   "codemirror_mode": {
    "name": "ipython",
    "version": 3
   },
   "file_extension": ".py",
   "mimetype": "text/x-python",
   "name": "python",
   "nbconvert_exporter": "python",
   "pygments_lexer": "ipython3",
   "version": "3.9.13"
  }
 },
 "nbformat": 4,
 "nbformat_minor": 2
}
