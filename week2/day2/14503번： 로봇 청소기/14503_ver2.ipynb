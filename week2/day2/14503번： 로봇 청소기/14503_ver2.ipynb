{
 "cells": [
  {
   "cell_type": "code",
   "execution_count": 15,
   "metadata": {},
   "outputs": [
    {
     "name": "stdout",
     "output_type": "stream",
     "text": [
      "57\n"
     ]
    }
   ],
   "source": [
    "import sys\n",
    "from collections import deque\n",
    "\n",
    "sys.stdin = open('./test.txt')\n",
    "\n",
    "N, M = map(int, sys.stdin.readline().strip().split())\n",
    "r, c, d = map(int, sys.stdin.readline().strip().split())\n",
    "\n",
    "array = []\n",
    "for line in sys.stdin.readlines():\n",
    "    map_list = list(map(int, line.strip().split()))\n",
    "    array.append(map_list)\n",
    "\n",
    "def find_clean_room_status(r, c, N, M, array, ax, ay):\n",
    "    \n",
    "    find_clean_room = False\n",
    "\n",
    "    for i in range(0, 4):\n",
    "        new_r, new_c = r + ax[i] , c + ay[i]\n",
    "        if 0<=new_r<N and 0<=new_c<M and array[new_r][new_c] == 0:\n",
    "            find_clean_room = True\n",
    "    \n",
    "    return find_clean_room\n",
    "\n",
    "def nowhere_cleanroom(r, c, N, M, ax, ay, d, array, keep_cleaning):\n",
    "\n",
    "    new_d = (d+2)%4\n",
    "    new_r, new_c = r + ax[new_d], c + ay[new_d]\n",
    "\n",
    "    if 0<=new_r<N and 0<=new_c<M:\n",
    "        if array[new_r][new_c] == 1:\n",
    "            keep_cleaning = False\n",
    "            return new_r, new_c, keep_cleaning\n",
    "        else:\n",
    "            return new_r, new_c, keep_cleaning\n",
    "        \n",
    "def turn_and_clean(r, c, N, M, ax, ay, d, array):\n",
    "    rotate_d = (d+3)%4\n",
    "    new_r, new_c = r + ax[rotate_d], c + ay[rotate_d]\n",
    "\n",
    "    if 0<=new_r<N and 0<=new_c<M and array[new_r][new_c] == 0:\n",
    "        return new_r, new_c, rotate_d\n",
    "\n",
    "    for i in range(3):\n",
    "        rotate_d = (rotate_d+3)%4\n",
    "        new_r, new_y = r + ax[rotate_d], c + ay[rotate_d]\n",
    "        if 0<=new_r<N and 0<=new_y<M and array[new_r][new_y] == 0:\n",
    "            return new_r, new_y, rotate_d\n",
    "        \n",
    "keep_cleaning = True\n",
    "cleaning_counts = 0\n",
    "\n",
    "ax = [-1, 0, 1, 0]\n",
    "ay = [0, +1, 0, -1]\n",
    "\n",
    "array[r][c] = 2\n",
    "cleaning_counts += 1\n",
    "\n",
    "while keep_cleaning:\n",
    "    find_clean_room = find_clean_room_status(r, c, N, M, array, ax, ay)\n",
    "    if find_clean_room:\n",
    "        # condition 1\n",
    "        r, c, d = turn_and_clean(r, c, N, M, ax, ay, d, array)\n",
    "        array[r][c] = 2\n",
    "        cleaning_counts += 1\n",
    "    else:\n",
    "        r, c, keep_cleaning = nowhere_cleanroom(r, c, N, M, ax, ay, d, array, keep_cleaning)\n",
    "\n",
    "print(cleaning_counts)"
   ]
  },
  {
   "cell_type": "code",
   "execution_count": 7,
   "metadata": {},
   "outputs": [
    {
     "data": {
      "text/plain": [
       "[[1, 1, 1, 1, 1, 1, 1, 1, 1, 1],\n",
       " [1, 0, 0, 0, 0, 0, 0, 0, 0, 1],\n",
       " [1, 0, 0, 0, 1, 1, 1, 1, 0, 1],\n",
       " [1, 0, 0, 1, 1, 0, 0, 0, 0, 1],\n",
       " [1, 0, 1, 1, 0, 0, 0, 0, 0, 1],\n",
       " [1, 0, 0, 0, 0, 0, 0, 0, 0, 1],\n",
       " [1, 0, 0, 0, 0, 0, 0, 1, 0, 1],\n",
       " [1, 0, 0, 2, 2, 0, 1, 1, 0, 1],\n",
       " [1, 0, 0, 2, 2, 0, 1, 1, 0, 1],\n",
       " [1, 0, 0, 0, 0, 0, 0, 0, 0, 1],\n",
       " [1, 1, 1, 1, 1, 1, 1, 1, 1, 1]]"
      ]
     },
     "execution_count": 7,
     "metadata": {},
     "output_type": "execute_result"
    }
   ],
   "source": [
    "array"
   ]
  },
  {
   "cell_type": "code",
   "execution_count": null,
   "metadata": {},
   "outputs": [],
   "source": []
  }
 ],
 "metadata": {
  "kernelspec": {
   "display_name": "base",
   "language": "python",
   "name": "python3"
  },
  "language_info": {
   "codemirror_mode": {
    "name": "ipython",
    "version": 3
   },
   "file_extension": ".py",
   "mimetype": "text/x-python",
   "name": "python",
   "nbconvert_exporter": "python",
   "pygments_lexer": "ipython3",
   "version": "3.9.13"
  }
 },
 "nbformat": 4,
 "nbformat_minor": 2
}
