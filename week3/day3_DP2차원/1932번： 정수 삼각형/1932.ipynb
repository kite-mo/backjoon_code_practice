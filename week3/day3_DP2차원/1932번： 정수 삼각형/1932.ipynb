{
 "cells": [
  {
   "cell_type": "code",
   "execution_count": 25,
   "metadata": {},
   "outputs": [
    {
     "name": "stdout",
     "output_type": "stream",
     "text": [
      "30\n"
     ]
    }
   ],
   "source": [
    "import sys\n",
    "\n",
    "sys.stdin = open('./test.txt')\n",
    "N = int(sys.stdin.readline())\n",
    "triangle = [list(map(int, line.strip().split())) for line in sys.stdin.readlines()]\n",
    "dp = [[0]*(idx+1) for idx, i in enumerate(range(N))]\n",
    "\n",
    "dp[0][0] = triangle[0][0]\n",
    "\n",
    "for i in range(1, N):\n",
    "    for j in range(len(triangle[i])):\n",
    "        if i == 1:\n",
    "            dp[i][j] = triangle[i][j] + dp[i-1][0]\n",
    "        elif j == 0:\n",
    "            dp[i][j] = triangle[i][j] + dp[i-1][j]\n",
    "        elif j == len(triangle[i]) - 1:\n",
    "            dp[i][j] = triangle[i][j] + dp[i-1][j-1]\n",
    "        else:\n",
    "            dp[i][j] = max(dp[i-1][j-1], dp[i-1][j]) + triangle[i][j]\n",
    "\n",
    "print(max(dp[-1]))"
   ]
  },
  {
   "cell_type": "code",
   "execution_count": 24,
   "metadata": {},
   "outputs": [
    {
     "data": {
      "text/plain": [
       "[[7], [10, 15], [18, 16, 15], [20, 25, 20, 19], [24, 30, 27, 26, 24]]"
      ]
     },
     "execution_count": 24,
     "metadata": {},
     "output_type": "execute_result"
    }
   ],
   "source": [
    "dp"
   ]
  },
  {
   "cell_type": "code",
   "execution_count": null,
   "metadata": {},
   "outputs": [],
   "source": []
  },
  {
   "cell_type": "code",
   "execution_count": null,
   "metadata": {},
   "outputs": [],
   "source": []
  }
 ],
 "metadata": {
  "kernelspec": {
   "display_name": "Python 3",
   "language": "python",
   "name": "python3"
  },
  "language_info": {
   "codemirror_mode": {
    "name": "ipython",
    "version": 3
   },
   "file_extension": ".py",
   "mimetype": "text/x-python",
   "name": "python",
   "nbconvert_exporter": "python",
   "pygments_lexer": "ipython3",
   "version": "3.9.6"
  }
 },
 "nbformat": 4,
 "nbformat_minor": 2
}
