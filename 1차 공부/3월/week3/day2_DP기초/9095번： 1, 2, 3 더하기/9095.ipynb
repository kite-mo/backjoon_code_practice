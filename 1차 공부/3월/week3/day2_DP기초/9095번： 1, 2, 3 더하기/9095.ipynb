{
 "cells": [
  {
   "cell_type": "code",
   "execution_count": 11,
   "metadata": {},
   "outputs": [
    {
     "name": "stdout",
     "output_type": "stream",
     "text": [
      "7\n",
      "44\n",
      "274\n"
     ]
    }
   ],
   "source": [
    "import sys\n",
    "\n",
    "sys.stdin = open('./test.txt')\n",
    "counts = int(sys.stdin.readline())\n",
    "for N in sys.stdin.readlines():\n",
    "    N = int(N)\n",
    "    dp = [0] * (N+1)\n",
    "    dp[0] = 1\n",
    "\n",
    "    for i in range(1, N+1):\n",
    "        if i <= 1:\n",
    "            dp[i] = dp[i-1]\n",
    "        elif i <= 2:\n",
    "            dp[i] = dp[i-1] + dp[i-2]\n",
    "        else:\n",
    "            dp[i] = dp[i-1] + dp[i-2] + dp[i-3]\n",
    "    \n",
    "    print(dp[N])"
   ]
  },
  {
   "cell_type": "markdown",
   "metadata": {},
   "source": [
    "이게 의미하는 건:\n",
    "\n",
    "n을 만들기 위해 마지막에 1을 더했다면 → n-1까지 만들었어야 함 → dp[n-1]\n",
    "\n",
    "마지막에 2를 더했다면 → n-2까지 만들었어야 함 → dp[n-2]\n",
    "\n",
    "마지막에 3을 더했다면 → n-3까지 만들었어야 함 → dp[n-3]\n",
    "\n",
    "\n",
    "예를 들어 “1, 2, 5만 써도 된다”라고 하면?\n",
    "→ 점화식이 이렇게 바뀌게 돼:\n",
    "\n",
    "dp[n] = dp[n-1] + dp[n-2] + dp[n-5]\n",
    "→ 즉 문제에서 \"어떤 수를 쓸 수 있다고 주어졌는지\"가 곧 마지막에 더할 수 있는 수가 되는 거야."
   ]
  },
  {
   "cell_type": "code",
   "execution_count": 14,
   "metadata": {},
   "outputs": [
    {
     "name": "stdout",
     "output_type": "stream",
     "text": [
      "7\n",
      "44\n",
      "274\n"
     ]
    }
   ],
   "source": [
    "import sys\n",
    "\n",
    "sys.stdin = open('./test.txt')\n",
    "max_N = 11\n",
    "dp = [0] * (max_N + 1)\n",
    "dp[0] = 1\n",
    "dp[1] = 1\n",
    "dp[2] = 2\n",
    "dp[3] = 4\n",
    "\n",
    "for i in range(4, max_N+1):\n",
    "    dp[i] = dp[i-3] + dp[i-2] + dp[i-1]\n",
    "\n",
    "counts = int(sys.stdin.readline())\n",
    "for N in sys.stdin.readlines():\n",
    "    print(dp[int(N)])"
   ]
  },
  {
   "cell_type": "code",
   "execution_count": null,
   "metadata": {},
   "outputs": [],
   "source": []
  }
 ],
 "metadata": {
  "kernelspec": {
   "display_name": "Python 3",
   "language": "python",
   "name": "python3"
  },
  "language_info": {
   "codemirror_mode": {
    "name": "ipython",
    "version": 3
   },
   "file_extension": ".py",
   "mimetype": "text/x-python",
   "name": "python",
   "nbconvert_exporter": "python",
   "pygments_lexer": "ipython3",
   "version": "3.9.6"
  }
 },
 "nbformat": 4,
 "nbformat_minor": 2
}
