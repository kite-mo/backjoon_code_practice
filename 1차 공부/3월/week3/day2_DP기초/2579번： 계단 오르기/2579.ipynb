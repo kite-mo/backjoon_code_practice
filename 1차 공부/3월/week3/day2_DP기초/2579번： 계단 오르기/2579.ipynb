{
 "cells": [
  {
   "cell_type": "code",
   "execution_count": 7,
   "metadata": {},
   "outputs": [
    {
     "name": "stdout",
     "output_type": "stream",
     "text": [
      "75\n"
     ]
    }
   ],
   "source": [
    "import sys\n",
    "\n",
    "sys.stdin = open('./test.txt')\n",
    "stair_counts = int(sys.stdin.readline())\n",
    "score_list = [0] + [int(sys.stdin.readline()) for i in range(stair_counts)]\n",
    "dp = [0] * (stair_counts + 1)\n",
    "dp[0] = 0\n",
    "\n",
    "for i in range(1, stair_counts+1):\n",
    "    if i == 1:\n",
    "        dp[i] = score_list[i]\n",
    "    elif i == 2:\n",
    "        dp[i] = max(score_list[i], dp[i-1]+score_list[i])\n",
    "    else:\n",
    "        dp[i] = max(dp[i-2]+score_list[i], \n",
    "                    dp[i-3]+score_list[i-1]+score_list[i])\n",
    "\n",
    "print(dp[-1])"
   ]
  },
  {
   "cell_type": "code",
   "execution_count": 6,
   "metadata": {},
   "outputs": [
    {
     "data": {
      "text/plain": [
       "[0, 10, 30, 35, 55, 65, 75]"
      ]
     },
     "execution_count": 6,
     "metadata": {},
     "output_type": "execute_result"
    }
   ],
   "source": [
    "dp"
   ]
  },
  {
   "cell_type": "code",
   "execution_count": null,
   "metadata": {},
   "outputs": [],
   "source": []
  },
  {
   "cell_type": "code",
   "execution_count": null,
   "metadata": {},
   "outputs": [],
   "source": []
  },
  {
   "cell_type": "code",
   "execution_count": null,
   "metadata": {},
   "outputs": [],
   "source": []
  },
  {
   "cell_type": "code",
   "execution_count": null,
   "metadata": {},
   "outputs": [],
   "source": []
  },
  {
   "cell_type": "code",
   "execution_count": null,
   "metadata": {},
   "outputs": [],
   "source": []
  }
 ],
 "metadata": {
  "kernelspec": {
   "display_name": "Python 3",
   "language": "python",
   "name": "python3"
  },
  "language_info": {
   "codemirror_mode": {
    "name": "ipython",
    "version": 3
   },
   "file_extension": ".py",
   "mimetype": "text/x-python",
   "name": "python",
   "nbconvert_exporter": "python",
   "pygments_lexer": "ipython3",
   "version": "3.9.6"
  }
 },
 "nbformat": 4,
 "nbformat_minor": 2
}
