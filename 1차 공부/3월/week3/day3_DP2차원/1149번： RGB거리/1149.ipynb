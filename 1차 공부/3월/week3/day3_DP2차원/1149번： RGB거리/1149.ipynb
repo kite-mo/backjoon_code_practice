{
 "cells": [
  {
   "cell_type": "code",
   "execution_count": 7,
   "metadata": {},
   "outputs": [
    {
     "name": "stdout",
     "output_type": "stream",
     "text": [
      "96\n"
     ]
    }
   ],
   "source": [
    "import sys\n",
    "\n",
    "sys.stdin = open('./test.txt')\n",
    "\n",
    "N = int(sys.stdin.readline())\n",
    "rgb_prices = [list(map(int, line.strip().split())) for line in sys.stdin.readlines()]\n",
    "dp = [[0] * 3 for i in range(N)]\n",
    "R, G, B = 0, 1, 2\n",
    "dp[0][R] = rgb_prices[0][R]\n",
    "dp[0][G] = rgb_prices[0][G]\n",
    "dp[0][B] = rgb_prices[0][B]\n",
    "\n",
    "for i in range(1, N):\n",
    "    dp[i][R] = min(dp[i-1][G], dp[i-1][B]) + rgb_prices[i][R]\n",
    "    dp[i][G] = min(dp[i-1][R], dp[i-1][B]) + rgb_prices[i][G]\n",
    "    dp[i][B] = min(dp[i-1][G], dp[i-1][R]) + rgb_prices[i][B]\n",
    "\n",
    "print(min(dp[-1]))"
   ]
  },
  {
   "cell_type": "code",
   "execution_count": 6,
   "metadata": {},
   "outputs": [
    {
     "data": {
      "text/plain": [
       "[[26, 40, 83], [89, 86, 83], [96, 172, 185]]"
      ]
     },
     "execution_count": 6,
     "metadata": {},
     "output_type": "execute_result"
    }
   ],
   "source": [
    "dp"
   ]
  },
  {
   "cell_type": "code",
   "execution_count": null,
   "metadata": {},
   "outputs": [],
   "source": []
  },
  {
   "cell_type": "code",
   "execution_count": null,
   "metadata": {},
   "outputs": [],
   "source": []
  }
 ],
 "metadata": {
  "kernelspec": {
   "display_name": "Python 3",
   "language": "python",
   "name": "python3"
  },
  "language_info": {
   "codemirror_mode": {
    "name": "ipython",
    "version": 3
   },
   "file_extension": ".py",
   "mimetype": "text/x-python",
   "name": "python",
   "nbconvert_exporter": "python",
   "pygments_lexer": "ipython3",
   "version": "3.9.6"
  }
 },
 "nbformat": 4,
 "nbformat_minor": 2
}
