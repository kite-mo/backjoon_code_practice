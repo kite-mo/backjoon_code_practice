{
 "cells": [
  {
   "cell_type": "code",
   "execution_count": null,
   "metadata": {},
   "outputs": [],
   "source": [
    "# import sys\n",
    "\n",
    "# sys.stdin = open('./test.txt')\n",
    "# N, K = map(int, sys.stdin.readline().split())\n",
    "# W, V = 0, 1\n",
    "\n",
    "# weight_value_array = [list(map(int, line.strip().split())) for line in sys.stdin.readlines()]\n",
    "# dp = [[0]*(K+1) for i in range(N)]\n",
    "# a\n",
    "# for i in range(1, N):\n",
    "    "
   ]
  },
  {
   "cell_type": "code",
   "execution_count": 46,
   "metadata": {},
   "outputs": [
    {
     "name": "stdout",
     "output_type": "stream",
     "text": [
      "[[0, 0, 0, 0, 0, 0, 0, 0], [0, 0, 0, 0, 0, 0, 13, 13], [0, 0, 0, 0, 0, 0, 0, 0], [0, 0, 0, 0, 0, 0, 0, 0], [0, 0, 0, 0, 0, 0, 0, 0]]\n",
      "\n",
      "[[0, 0, 0, 0, 0, 0, 0, 0], [0, 0, 0, 0, 0, 0, 13, 13], [0, 0, 0, 0, 8, 8, 13, 13], [0, 0, 0, 0, 0, 0, 0, 0], [0, 0, 0, 0, 0, 0, 0, 0]]\n",
      "\n",
      "[[0, 0, 0, 0, 0, 0, 0, 0], [0, 0, 0, 0, 0, 0, 13, 13], [0, 0, 0, 0, 8, 8, 13, 13], [0, 0, 0, 6, 8, 8, 13, 14], [0, 0, 0, 0, 0, 0, 0, 0]]\n",
      "\n",
      "[[0, 0, 0, 0, 0, 0, 0, 0], [0, 0, 0, 0, 0, 0, 13, 13], [0, 0, 0, 0, 8, 8, 13, 13], [0, 0, 0, 6, 8, 8, 13, 14], [0, 0, 0, 6, 8, 12, 13, 14]]\n",
      "\n"
     ]
    }
   ],
   "source": [
    "# 입력\n",
    "import sys\n",
    "\n",
    "# sys.stdin = open('./test.txt')\n",
    "N, K = map(int, sys.stdin.readline().split())\n",
    "weight_value_array = [list(map(int, line.strip().split())) for line in sys.stdin.readlines()]\n",
    "\n",
    "# DP 테이블: (N+1)행 x (K+1)열\n",
    "dp = [[0] * (K + 1) for _ in range(N + 1)]\n",
    "\n",
    "# 점화식 적용\n",
    "for i in range(1, N + 1):\n",
    "    weight, value = weight_value_array[i - 1]  # 현재 물건의 무게, 가치\n",
    "    for limit_weight in range(K + 1):  # 현재 배낭 용량 w\n",
    "        if limit_weight < weight:\n",
    "            # 현재 배낭 용량이 작아서 못 넣는 경우 → 이전 값 그대로\n",
    "            dp[i][limit_weight] = dp[i - 1][limit_weight]\n",
    "        elif limit_weight >= weight:\n",
    "            # 안 넣는 경우 vs 넣는 경우 중 더 좋은 선택\n",
    "            dp[i][limit_weight] = max(dp[i - 1][limit_weight], dp[i - 1][limit_weight - weight] + value)"
   ]
  },
  {
   "cell_type": "code",
   "execution_count": 45,
   "metadata": {},
   "outputs": [
    {
     "data": {
      "text/plain": [
       "[[0, 0, 0, 0, 0, 0, 0, 0],\n",
       " [0, 0, 0, 0, 0, 0, 13, 13],\n",
       " [0, 0, 0, 0, 0, 0, 0, 0],\n",
       " [0, 0, 0, 0, 0, 0, 0, 0],\n",
       " [0, 0, 0, 0, 0, 0, 0, 0]]"
      ]
     },
     "execution_count": 45,
     "metadata": {},
     "output_type": "execute_result"
    }
   ],
   "source": [
    "dp"
   ]
  },
  {
   "cell_type": "code",
   "execution_count": null,
   "metadata": {},
   "outputs": [],
   "source": []
  }
 ],
 "metadata": {
  "kernelspec": {
   "display_name": "Python 3",
   "language": "python",
   "name": "python3"
  },
  "language_info": {
   "codemirror_mode": {
    "name": "ipython",
    "version": 3
   },
   "file_extension": ".py",
   "mimetype": "text/x-python",
   "name": "python",
   "nbconvert_exporter": "python",
   "pygments_lexer": "ipython3",
   "version": "3.9.6"
  }
 },
 "nbformat": 4,
 "nbformat_minor": 2
}
