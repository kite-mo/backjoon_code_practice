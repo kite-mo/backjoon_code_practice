{
 "cells": [
  {
   "cell_type": "code",
   "execution_count": 66,
   "metadata": {},
   "outputs": [
    {
     "name": "stdout",
     "output_type": "stream",
     "text": [
      "13\n"
     ]
    }
   ],
   "source": [
    "import sys\n",
    "from collections import deque\n",
    "\n",
    "sys.stdin = open('./test.txt')\n",
    "N = int(sys.stdin.readline().strip())\n",
    "\n",
    "array = []\n",
    "for i in range(N):\n",
    "    array.append([0] * N)\n",
    "\n",
    "apple_num = int(sys.stdin.readline().strip())\n",
    "apple_index = []\n",
    "for i in range(apple_num):\n",
    "    x, y = map(int, sys.stdin.readline().strip().split())\n",
    "    apple_index.append((x,y))\n",
    "\n",
    "for index in apple_index:\n",
    "    array[index[0]-1][index[1]-1] = 1\n",
    "\n",
    "rotate_num = int(sys.stdin.readline().strip())\n",
    "rotate_dict = {}\n",
    "for i in range(rotate_num):\n",
    "    seconds, rotate = list(sys.stdin.readline().strip().split())\n",
    "    rotate_dict[int(seconds)] = rotate\n",
    "\n",
    "x, y = 0, 0\n",
    "# 위 : 0, 오른쪽 : 1, 아래 : 2, 왼쪽 : 3\n",
    "dx, dy = [-1, 0, 1, 0], [0, 1, 0, -1]\n",
    "d = 1\n",
    "count = 0\n",
    "array[x][y] = 2\n",
    "\n",
    "snake = deque()\n",
    "snake.append((x,y))\n",
    "snake_keep_going = True\n",
    "\n",
    "while snake_keep_going:\n",
    "    count += 1\n",
    "    new_x, new_y = x + dx[d], y + dy[d]\n",
    "\n",
    "    # end game\n",
    "    if new_x < 0 or new_y < 0 or new_x == N or new_y == N or array[new_x][new_y] == 2:\n",
    "        snake_keep_going = False\n",
    "        break\n",
    "\n",
    "    snake_head_value = array[new_x][new_y]\n",
    "\n",
    "    # no apple\n",
    "    if snake_head_value == 0:\n",
    "        tail_x, tail_y = snake.popleft()\n",
    "        array[tail_x][tail_y] = 0\n",
    "        snake.append((new_x, new_y))\n",
    "        array[new_x][new_y] = 2\n",
    "\n",
    "    # got apple\n",
    "    if snake_head_value == 1:\n",
    "        snake.append((new_x, new_y))\n",
    "        array[new_x][new_y] = 2 \n",
    "\n",
    "    # change direction\n",
    "    if count in rotate_dict.keys():\n",
    "        direction_rule = rotate_dict[count]\n",
    "\n",
    "        if direction_rule == 'L':\n",
    "            d = (d+3) % 4\n",
    "        if direction_rule == 'D':\n",
    "            d = (d+1) % 4\n",
    "\n",
    "    x, y = new_x, new_y\n",
    "\n",
    "print(count)"
   ]
  },
  {
   "cell_type": "code",
   "execution_count": 62,
   "metadata": {},
   "outputs": [
    {
     "data": {
      "text/plain": [
       "6"
      ]
     },
     "execution_count": 62,
     "metadata": {},
     "output_type": "execute_result"
    }
   ],
   "source": [
    "N"
   ]
  },
  {
   "cell_type": "code",
   "execution_count": null,
   "metadata": {},
   "outputs": [],
   "source": []
  }
 ],
 "metadata": {
  "kernelspec": {
   "display_name": "base",
   "language": "python",
   "name": "python3"
  },
  "language_info": {
   "codemirror_mode": {
    "name": "ipython",
    "version": 3
   },
   "file_extension": ".py",
   "mimetype": "text/x-python",
   "name": "python",
   "nbconvert_exporter": "python",
   "pygments_lexer": "ipython3",
   "version": "3.9.13"
  }
 },
 "nbformat": 4,
 "nbformat_minor": 2
}
