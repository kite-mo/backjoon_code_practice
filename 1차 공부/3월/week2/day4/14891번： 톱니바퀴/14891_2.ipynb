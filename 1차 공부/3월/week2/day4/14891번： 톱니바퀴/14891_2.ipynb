{
 "cells": [
  {
   "cell_type": "code",
   "execution_count": 21,
   "metadata": {},
   "outputs": [
    {
     "name": "stdout",
     "output_type": "stream",
     "text": [
      "6\n"
     ]
    }
   ],
   "source": [
    "import sys\n",
    "from collections import deque\n",
    "\n",
    "sys.stdin = open('./test.txt')\n",
    "\n",
    "tok_list = [deque([int(j) for j in sys.stdin.readline().strip().split()[0]]) for i in range(4)]\n",
    "\n",
    "rotate_nums = int(sys.stdin.readline().strip())\n",
    "rotate_info_list = []\n",
    "for i in range(rotate_nums):\n",
    "    info = list(map(int, sys.stdin.readline().strip().split()))\n",
    "    rotate_info_list.append(info)\n",
    "\n",
    "def change_took_by_direction(queue, direction):\n",
    "    if direction == 1:\n",
    "        queue.appendleft(queue.pop())\n",
    "    if direction == -1:\n",
    "        queue.append(queue.popleft())\n",
    "    return queue\n",
    "\n",
    "count = 0\n",
    "\n",
    "for tok_num, direction in rotate_info_list:\n",
    "    tok_num = tok_num - 1\n",
    "    direction_by_tok = [0] * 4\n",
    "    direction_by_tok[tok_num] = direction\n",
    "\n",
    "    # check another tok direction\n",
    "    for right in range(tok_num+1,4):\n",
    "        if tok_list[right-1][2] != tok_list[right][-2]:\n",
    "            direction_by_tok[right] = direction_by_tok[right-1] * -1\n",
    "        else:\n",
    "            break\n",
    "\n",
    "    for left in range(tok_num-1, -1, -1):\n",
    "        if tok_list[left+1][-2] != tok_list[left][2]:\n",
    "            direction_by_tok[left] = direction_by_tok[left+1] * -1\n",
    "        else:\n",
    "            break\n",
    "\n",
    "    for num, new_direction in enumerate(direction_by_tok):\n",
    "        if new_direction != 0:\n",
    "            tok_list[num] = change_took_by_direction(tok_list[num], new_direction)\n",
    "\n",
    "\n",
    "rotate_count = sum([tok[0]*2**(num) for num, tok in enumerate(tok_list)])\n",
    "count += rotate_count\n",
    "\n",
    "print(count)"
   ]
  },
  {
   "cell_type": "code",
   "execution_count": null,
   "metadata": {},
   "outputs": [],
   "source": []
  },
  {
   "cell_type": "code",
   "execution_count": null,
   "metadata": {},
   "outputs": [],
   "source": []
  },
  {
   "cell_type": "code",
   "execution_count": null,
   "metadata": {},
   "outputs": [],
   "source": []
  }
 ],
 "metadata": {
  "kernelspec": {
   "display_name": "base",
   "language": "python",
   "name": "python3"
  },
  "language_info": {
   "codemirror_mode": {
    "name": "ipython",
    "version": 3
   },
   "file_extension": ".py",
   "mimetype": "text/x-python",
   "name": "python",
   "nbconvert_exporter": "python",
   "pygments_lexer": "ipython3",
   "version": "3.9.13"
  }
 },
 "nbformat": 4,
 "nbformat_minor": 2
}
