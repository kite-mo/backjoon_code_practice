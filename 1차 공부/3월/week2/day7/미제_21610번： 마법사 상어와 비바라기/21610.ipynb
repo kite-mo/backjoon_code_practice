{
 "cells": [
  {
   "cell_type": "code",
   "execution_count": 44,
   "metadata": {},
   "outputs": [
    {
     "name": "stdout",
     "output_type": "stream",
     "text": [
      "77\n"
     ]
    }
   ],
   "source": [
    "import sys\n",
    "\n",
    "sys.stdin = open('./test.txt')\n",
    "N, M = map(int, sys.stdin.readline().split())\n",
    "N_array = [list(map(int, sys.stdin.readline().split())) for i in range(N)]\n",
    "d_s_list = [list(map(int, sys.stdin.readline().split())) for i in range(M)]\n",
    "\n",
    "dx = [0, -1, -1, -1, 0, 1, 1, 1]\n",
    "dy = [-1, -1, 0, 1, 1, 1, 0, -1]\n",
    "\n",
    "cloud_position = [(N-1,0), (N-1,1), (N-2,0), (N-2,1)]\n",
    "\n",
    "for d, s in d_s_list:\n",
    "    move_cloud_position = []\n",
    "    for position in cloud_position:\n",
    "        x, y = position\n",
    "        new_x, new_y = (x + dx[d-1]*s)%N,(y + dy[d-1]*s)%N\n",
    "        move_cloud_position.append((new_x, new_y))\n",
    "        N_array[new_x][new_y] +=1\n",
    "    \n",
    "    for x, y in move_cloud_position:\n",
    "        count = 0\n",
    "        for d in [1, 3, 5, 7]:\n",
    "            x_, y_ = x + dx[d], y + dy[d]\n",
    "            if 0<=x_<N and 0<=y_<N and N_array[x_][y_] > 0:\n",
    "                count+=1\n",
    "        N_array[x][y] += count\n",
    "\n",
    "    make_new_cloud_position = []\n",
    "    before_cloud_position = set(move_cloud_position)\n",
    "    for r in range(N):\n",
    "        for c in range(N):\n",
    "            if N_array[r][c] >= 2 and (r,c) not in before_cloud_position:\n",
    "                make_new_cloud_position.append((r,c))\n",
    "                N_array[r][c] -= 2\n",
    "    \n",
    "    cloud_position = make_new_cloud_position\n",
    "\n",
    "total_sum = sum(map(sum, N_array))\n",
    "print(total_sum)"
   ]
  },
  {
   "cell_type": "code",
   "execution_count": 39,
   "metadata": {},
   "outputs": [
    {
     "data": {
      "text/plain": [
       "True"
      ]
     },
     "execution_count": 39,
     "metadata": {},
     "output_type": "execute_result"
    }
   ],
   "source": [
    "(3,2) in before_cloud_position"
   ]
  },
  {
   "cell_type": "code",
   "execution_count": 18,
   "metadata": {},
   "outputs": [
    {
     "data": {
      "text/plain": [
       "4"
      ]
     },
     "execution_count": 18,
     "metadata": {},
     "output_type": "execute_result"
    }
   ],
   "source": [
    "-16 % 5"
   ]
  },
  {
   "cell_type": "code",
   "execution_count": 17,
   "metadata": {},
   "outputs": [
    {
     "data": {
      "text/plain": [
       "3"
      ]
     },
     "execution_count": 17,
     "metadata": {},
     "output_type": "execute_result"
    }
   ],
   "source": [
    "13 % 5"
   ]
  },
  {
   "cell_type": "code",
   "execution_count": null,
   "metadata": {},
   "outputs": [],
   "source": []
  },
  {
   "cell_type": "code",
   "execution_count": null,
   "metadata": {},
   "outputs": [],
   "source": []
  }
 ],
 "metadata": {
  "kernelspec": {
   "display_name": "base",
   "language": "python",
   "name": "python3"
  },
  "language_info": {
   "codemirror_mode": {
    "name": "ipython",
    "version": 3
   },
   "file_extension": ".py",
   "mimetype": "text/x-python",
   "name": "python",
   "nbconvert_exporter": "python",
   "pygments_lexer": "ipython3",
   "version": "3.9.13"
  }
 },
 "nbformat": 4,
 "nbformat_minor": 2
}
