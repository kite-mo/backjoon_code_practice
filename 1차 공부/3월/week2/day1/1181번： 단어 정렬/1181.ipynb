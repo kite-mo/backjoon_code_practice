{
 "cells": [
  {
   "cell_type": "code",
   "execution_count": 7,
   "metadata": {},
   "outputs": [
    {
     "name": "stdout",
     "output_type": "stream",
     "text": [
      "hesitate\n",
      "cannot\n",
      "yours\n",
      "wont\n",
      "wait\n",
      "more\n",
      "but\n",
      "no\n",
      "it\n",
      "im\n",
      "i\n"
     ]
    }
   ],
   "source": [
    "import sys\n",
    "from collections import deque\n",
    "\n",
    "sys.stdin = open('./test.txt')\n",
    "N = int(sys.stdin.readline().strip())\n",
    "line_contents = [line.strip() for line in sys.stdin.readlines()]\n",
    "only_unique_contents = list(set(line_contents))\n",
    "\n",
    "sorted_contents = sorted(only_unique_contents, key = lambda x : (len(x), x), reverse=True)\n",
    "for content in sorted_contents:\n",
    "    print(content)"
   ]
  },
  {
   "cell_type": "code",
   "execution_count": null,
   "metadata": {},
   "outputs": [],
   "source": []
  }
 ],
 "metadata": {
  "kernelspec": {
   "display_name": "base",
   "language": "python",
   "name": "python3"
  },
  "language_info": {
   "codemirror_mode": {
    "name": "ipython",
    "version": 3
   },
   "file_extension": ".py",
   "mimetype": "text/x-python",
   "name": "python",
   "nbconvert_exporter": "python",
   "pygments_lexer": "ipython3",
   "version": "3.9.13"
  }
 },
 "nbformat": 4,
 "nbformat_minor": 2
}
