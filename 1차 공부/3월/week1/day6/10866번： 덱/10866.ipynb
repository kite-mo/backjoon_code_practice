{
 "cells": [
  {
   "cell_type": "code",
   "execution_count": 7,
   "metadata": {},
   "outputs": [
    {
     "name": "stdout",
     "output_type": "stream",
     "text": [
      "2\n",
      "1\n",
      "2\n",
      "0\n",
      "2\n",
      "1\n",
      "-1\n",
      "0\n",
      "1\n",
      "-1\n",
      "0\n",
      "3\n"
     ]
    }
   ],
   "source": [
    "import sys\n",
    "from collections import deque\n",
    "\n",
    "sys.stdin = open('./test.txt')\n",
    "command_counts = int(sys.stdin.readline())\n",
    "\n",
    "queue_ = deque()\n",
    "list_ = []\n",
    "\n",
    "for i in range(command_counts):\n",
    "    contents = sys.stdin.readline().strip().split()\n",
    "\n",
    "    if len(contents) == 2:\n",
    "        command, number = contents[0], int(contents[1])\n",
    "    else:\n",
    "        command = contents[0]\n",
    "    \n",
    "    if command == 'push_front':\n",
    "        queue_.appendleft(number)\n",
    "    if command == 'push_back':\n",
    "        queue_.append(number)\n",
    "    if command == 'pop_front':\n",
    "        if len(queue_) == 0:\n",
    "            print(-1)\n",
    "        else:\n",
    "            out_number = queue_.popleft()\n",
    "            print(out_number)\n",
    "    if command == 'pop_back':\n",
    "        if len(queue_) == 0:\n",
    "            print(-1)\n",
    "        else:\n",
    "            out_number = queue_.pop()\n",
    "            print(out_number)\n",
    "    if command == 'size':\n",
    "        print(len(queue_))\n",
    "    if command == 'empty':\n",
    "        if len(queue_) == 0:\n",
    "            print(1)\n",
    "        else:\n",
    "            print(0)\n",
    "    if command == 'front':\n",
    "        if len(queue_) == 0:\n",
    "            print(-1)\n",
    "        else:\n",
    "            print(queue_[0])\n",
    "    if command == 'back':\n",
    "        if len(queue_) == 0:\n",
    "            print(-1)\n",
    "        else:\n",
    "            print(queue_[-1])"
   ]
  },
  {
   "cell_type": "code",
   "execution_count": 2,
   "metadata": {},
   "outputs": [
    {
     "data": {
      "text/plain": [
       "'push_back 1'"
      ]
     },
     "execution_count": 2,
     "metadata": {},
     "output_type": "execute_result"
    }
   ],
   "source": [
    "contents"
   ]
  },
  {
   "cell_type": "code",
   "execution_count": null,
   "metadata": {},
   "outputs": [],
   "source": []
  },
  {
   "cell_type": "code",
   "execution_count": null,
   "metadata": {},
   "outputs": [],
   "source": []
  },
  {
   "cell_type": "code",
   "execution_count": null,
   "metadata": {},
   "outputs": [],
   "source": []
  }
 ],
 "metadata": {
  "kernelspec": {
   "display_name": "base",
   "language": "python",
   "name": "python3"
  },
  "language_info": {
   "codemirror_mode": {
    "name": "ipython",
    "version": 3
   },
   "file_extension": ".py",
   "mimetype": "text/x-python",
   "name": "python",
   "nbconvert_exporter": "python",
   "pygments_lexer": "ipython3",
   "version": "3.9.13"
  }
 },
 "nbformat": 4,
 "nbformat_minor": 2
}
