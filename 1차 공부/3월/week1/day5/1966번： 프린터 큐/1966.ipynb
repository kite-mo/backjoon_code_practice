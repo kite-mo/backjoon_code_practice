{
 "cells": [
  {
   "cell_type": "code",
   "execution_count": 34,
   "metadata": {},
   "outputs": [
    {
     "name": "stdout",
     "output_type": "stream",
     "text": [
      "1\n",
      "2\n",
      "5\n"
     ]
    }
   ],
   "source": [
    "import sys\n",
    "from collections import deque\n",
    "\n",
    "sys.stdin = open('./test.txt')\n",
    "problem_numbers = int(sys.stdin.readline().strip())\n",
    "total_lines = sys.stdin.readlines()\n",
    "\n",
    "for i in range(problem_numbers):\n",
    "    problem = total_lines[i*2:i*2+2]\n",
    "    document_numbers, place_index = list(map(int, problem[0].strip().split()))\n",
    "    importance_list = deque(map(int, problem[1].strip().split()))\n",
    "    importance_list = deque([(idx, num) for idx, num in enumerate(importance_list)])\n",
    "    count = 0\n",
    "\n",
    "    if document_numbers == 1:\n",
    "        print(1)\n",
    "    else:\n",
    "        while importance_list:\n",
    "            max_importance = max(importance_list, key=lambda x: x[1])[1]\n",
    "            index, out_node = importance_list.popleft()\n",
    "            if out_node < max_importance:\n",
    "                importance_list.append((index, out_node))\n",
    "            else:\n",
    "                count +=1\n",
    "                if index == place_index:\n",
    "                    print(count)\n"
   ]
  },
  {
   "cell_type": "code",
   "execution_count": 14,
   "metadata": {},
   "outputs": [
    {
     "data": {
      "text/plain": [
       "[5]"
      ]
     },
     "execution_count": 14,
     "metadata": {},
     "output_type": "execute_result"
    }
   ],
   "source": [
    "list(map(int, problem[0].strip().split()))"
   ]
  },
  {
   "cell_type": "code",
   "execution_count": 20,
   "metadata": {},
   "outputs": [
    {
     "data": {
      "text/plain": [
       "[1, 0]"
      ]
     },
     "execution_count": 20,
     "metadata": {},
     "output_type": "execute_result"
    }
   ],
   "source": [
    "list(map(int, problem[0].strip().split()))"
   ]
  },
  {
   "cell_type": "code",
   "execution_count": null,
   "metadata": {},
   "outputs": [],
   "source": []
  }
 ],
 "metadata": {
  "kernelspec": {
   "display_name": "base",
   "language": "python",
   "name": "python3"
  },
  "language_info": {
   "codemirror_mode": {
    "name": "ipython",
    "version": 3
   },
   "file_extension": ".py",
   "mimetype": "text/x-python",
   "name": "python",
   "nbconvert_exporter": "python",
   "pygments_lexer": "ipython3",
   "version": "3.9.13"
  }
 },
 "nbformat": 4,
 "nbformat_minor": 2
}
