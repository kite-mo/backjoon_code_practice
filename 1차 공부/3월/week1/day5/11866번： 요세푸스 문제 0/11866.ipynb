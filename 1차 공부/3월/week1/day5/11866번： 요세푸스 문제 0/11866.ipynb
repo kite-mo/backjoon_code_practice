{
 "cells": [
  {
   "cell_type": "code",
   "execution_count": 48,
   "metadata": {},
   "outputs": [
    {
     "name": "stdout",
     "output_type": "stream",
     "text": [
      "<3, 6, 2, 7, 5, 1, 4>\n"
     ]
    }
   ],
   "source": [
    "import sys\n",
    "\n",
    "sys.stdin = open('./test.txt')\n",
    "N, K = map(int, sys.stdin.readline().strip().split())\n",
    "\n",
    "first_circle = list(range(1, N+1))\n",
    "\n",
    "out_pop_list = []\n",
    "while first_circle:\n",
    "    first_circle = first_circle[K-1:] + first_circle[:K-1]\n",
    "    out_pop = first_circle.pop(0)\n",
    "    out_pop_list.append(out_pop)\n",
    "\n",
    "result = '<' +  str(out_pop_list)[1:-1]  + '>'\n",
    "print(result)"
   ]
  },
  {
   "cell_type": "code",
   "execution_count": 51,
   "metadata": {},
   "outputs": [
    {
     "name": "stdout",
     "output_type": "stream",
     "text": [
      "<3, 6, 2, 7, 5, 1, 4>\n"
     ]
    }
   ],
   "source": [
    "import sys\n",
    "from collections import deque\n",
    "\n",
    "sys.stdin = open('./test.txt')\n",
    "N, K = map(int, sys.stdin.readline().strip().split())\n",
    "\n",
    "first_circle = deque(range(1, N+1))\n",
    "out_pop_list = []\n",
    "\n",
    "while first_circle:\n",
    "    for i in range(K-1):\n",
    "        first_circle.append(first_circle.popleft())\n",
    "    \n",
    "    out_pop = first_circle.popleft()\n",
    "    out_pop_list.append(out_pop)\n",
    "\n",
    "result = '<' +  str(out_pop_list)[1:-1]  + '>'\n",
    "print(result)"
   ]
  },
  {
   "cell_type": "code",
   "execution_count": null,
   "metadata": {},
   "outputs": [],
   "source": []
  }
 ],
 "metadata": {
  "kernelspec": {
   "display_name": "base",
   "language": "python",
   "name": "python3"
  },
  "language_info": {
   "codemirror_mode": {
    "name": "ipython",
    "version": 3
   },
   "file_extension": ".py",
   "mimetype": "text/x-python",
   "name": "python",
   "nbconvert_exporter": "python",
   "pygments_lexer": "ipython3",
   "version": "3.9.13"
  }
 },
 "nbformat": 4,
 "nbformat_minor": 2
}
