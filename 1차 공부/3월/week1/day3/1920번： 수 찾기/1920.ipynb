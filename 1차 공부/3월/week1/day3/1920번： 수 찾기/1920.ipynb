{
 "cells": [
  {
   "cell_type": "code",
   "execution_count": 29,
   "metadata": {},
   "outputs": [
    {
     "name": "stdout",
     "output_type": "stream",
     "text": [
      "1\n",
      "1\n",
      "0\n",
      "0\n",
      "1\n"
     ]
    }
   ],
   "source": [
    "import sys\n",
    "\n",
    "sys.stdin = open('./test.txt')\n",
    "\n",
    "# 이진 탐색 시에는 반드시 후보는 정렬을 해야함\n",
    "N, N_list = int(sys.stdin.readline()), sorted(list(map(int, sys.stdin.readline().split())))\n",
    "M, M_list = int(sys.stdin.readline()), list(map(int, sys.stdin.readline().split()))\n",
    "\n",
    "def binary_search(search_list, target):\n",
    "    left, right = 0, len(search_list) - 1\n",
    "    while left <= right:\n",
    "        mid = (left + right)//2\n",
    "        if search_list[mid] == target:\n",
    "            return 1\n",
    "        elif search_list[mid] < target:\n",
    "            left = mid + 1\n",
    "        elif search_list[mid] > target:\n",
    "            right = mid - 1\n",
    "    return 0\n",
    "\n",
    "for target in M_list:\n",
    "   result = binary_search(N_list, target)\n",
    "   print(result) "
   ]
  },
  {
   "cell_type": "code",
   "execution_count": 42,
   "metadata": {},
   "outputs": [
    {
     "ename": "IndentationError",
     "evalue": "expected an indented block (2708000723.py, line 16)",
     "output_type": "error",
     "traceback": [
      "\u001b[0;36m  File \u001b[0;32m\"/var/folders/qp/sfp0yp1s001gnzgvpbpj2tf80000gn/T/ipykernel_64215/2708000723.py\"\u001b[0;36m, line \u001b[0;32m16\u001b[0m\n\u001b[0;31m    print(0)\u001b[0m\n\u001b[0m    ^\u001b[0m\n\u001b[0;31mIndentationError\u001b[0m\u001b[0;31m:\u001b[0m expected an indented block\n"
     ]
    }
   ],
   "source": [
    "import bisect\n",
    "import sys\n",
    "\n",
    "sys.stdin = open('./test.txt')\n",
    "\n",
    "N, N_list = int(sys.stdin.readline()), sorted(list(map(int, sys.stdin.readline().split())))\n",
    "M, M_list = int(sys.stdin.readline()), list(map(int, sys.stdin.readline().split()))\n",
    "N_list = sorted(N_list)\n",
    "\n",
    "for target in M_list:\n",
    "    result_idx = bisect.bisect_left(N_list, target)\n",
    "\n",
    "    if result_idx < len(N_list) and N_list[result_idx] == target:\n",
    "        print(1)\n",
    "    else:\n",
    "        print(0)"
   ]
  },
  {
   "cell_type": "code",
   "execution_count": null,
   "metadata": {},
   "outputs": [],
   "source": [
    "import sys\n",
    "\n",
    "sys.stdin = open('./test.txt')\n",
    "\n",
    "# 이진 탐색 시에는 반드시 후보는 정렬을 해야함\n",
    "N, N_list = int(sys.stdin.readline()), sorted(list(map(int, sys.stdin.readline().split())))\n",
    "M, M_list = int(sys.stdin.readline()), list(map(int, sys.stdin.readline().split()))\n",
    "\n",
    "def binary_search(search_list, target):\n",
    "    left, right = 0, len(search_list) - 1\n",
    "    while left <= right:\n",
    "        mid = (left + right)//2\n",
    "        if search_list[mid] == target:\n",
    "            return 1\n",
    "        elif search_list[mid] < target:\n",
    "            left = mid + 1\n",
    "        elif search_list[mid] > target:\n",
    "            right = mid - 1\n",
    "    return 0\n",
    "\n",
    "for target in M_list:\n",
    "   result = binary_search(N_list, target)\n",
    "   print(result) \n",
    "\n",
    "import bisect\n",
    "import sys\n",
    "\n",
    "sys.stdin = open('./test.txt')\n",
    "\n",
    "N, N_list = int(sys.stdin.readline()), sorted(list(map(int, sys.stdin.readline().split())))\n",
    "M, M_list = int(sys.stdin.readline()), list(map(int, sys.stdin.readline().split()))\n",
    "N_list = sorted(N_list)\n",
    "\n",
    "for target in M_list:\n",
    "    result_idx = bisect.bisect_left(N_list, target)\n",
    "\n",
    "    if result_idx < len(N_list) and N_list[result_idx] == target:\n",
    "        print(1)\n",
    "    else:\n",
    "        print(0)"
   ]
  },
  {
   "cell_type": "code",
   "execution_count": 50,
   "metadata": {},
   "outputs": [
    {
     "name": "stdout",
     "output_type": "stream",
     "text": [
      "1\n",
      "2\n",
      "4\n",
      "5\n",
      "3\n",
      "6\n"
     ]
    }
   ],
   "source": [
    "graph = {\n",
    "    1: [2, 3],\n",
    "    2: [4, 5],\n",
    "    3: [6],\n",
    "    4: [],\n",
    "    5: [],\n",
    "    6: []\n",
    "}\n",
    "\n",
    "def dfs_stack(graph, start_node):\n",
    "    visited = set([start_node])\n",
    "    stack = [start_node]\n",
    "\n",
    "    while stack:\n",
    "        check_node = stack.pop()\n",
    "        print(check_node)\n",
    "\n",
    "        for neighbor in reversed(graph[check_node]):\n",
    "            if neighbor not in visited:\n",
    "                visited.add(neighbor)\n",
    "                stack.append(neighbor)\n",
    "    \n",
    "\n",
    "dfs_stack(graph, 1)  "
   ]
  },
  {
   "cell_type": "code",
   "execution_count": null,
   "metadata": {},
   "outputs": [],
   "source": []
  }
 ],
 "metadata": {
  "kernelspec": {
   "display_name": "base",
   "language": "python",
   "name": "python3"
  },
  "language_info": {
   "codemirror_mode": {
    "name": "ipython",
    "version": 3
   },
   "file_extension": ".py",
   "mimetype": "text/x-python",
   "name": "python",
   "nbconvert_exporter": "python",
   "pygments_lexer": "ipython3",
   "version": "3.9.13"
  }
 },
 "nbformat": 4,
 "nbformat_minor": 2
}
