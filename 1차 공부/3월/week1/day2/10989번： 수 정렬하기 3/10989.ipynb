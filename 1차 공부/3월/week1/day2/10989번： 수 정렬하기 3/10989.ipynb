{
 "cells": [
  {
   "cell_type": "code",
   "execution_count": 17,
   "metadata": {},
   "outputs": [
    {
     "name": "stdout",
     "output_type": "stream",
     "text": [
      "1\n",
      "1\n",
      "2\n",
      "2\n",
      "3\n",
      "3\n",
      "4\n",
      "5\n",
      "5\n",
      "7\n"
     ]
    }
   ],
   "source": [
    "import sys\n",
    "\n",
    "# 8 MB 한계를 가짐\n",
    "## digit = 28 byte\n",
    "## 1 mb = 1024 * 1024 byte\n",
    "## 10^7 까지 생기니깐 -> 28 * 10^7 을 리스트에 담으면 메모리가 터진다\n",
    "## 즉, list 에 값을 담으면 안된다. 그래서 누적 카운트로 \n",
    "\n",
    "sys.stdin = open('./test.txt')\n",
    "contents = sys.stdin.read().split()\n",
    "contents_num = list(map(int, contents))\n",
    "first_num, question_num = contents_num[0], contents_num[1:]\n",
    "for i in sorted(question_num):\n",
    "    print(i)"
   ]
  },
  {
   "cell_type": "code",
   "execution_count": 1,
   "metadata": {},
   "outputs": [
    {
     "name": "stdout",
     "output_type": "stream",
     "text": [
      "1\n",
      "1\n",
      "2\n",
      "2\n",
      "3\n",
      "3\n",
      "4\n",
      "5\n",
      "5\n",
      "7\n"
     ]
    }
   ],
   "source": [
    "import sys\n",
    "\n",
    "sys.stdin = open('./test.txt')\n",
    "\n",
    "n = int(sys.stdin.readline()) \n",
    "\n",
    "# 1 <= int <= 10000 -> 총 10001 개\n",
    "counting_list = [0] * 10001\n",
    "\n",
    "# sys.stdin.read().split() : 한번에 다 불러오는 형식이라 메모리가 많이 듦\n",
    "for int_idx in sys.stdin: # 한 줄씩 로드하고 불러오는 구조에 유리 -> \n",
    "                          # sys.stdin.readline() -> 위에서 for loop 돌리는 것과 동일함\n",
    "    counting_list[int(int_idx)] += 1\n",
    "\n",
    "for idx in range(1,10001):\n",
    "    count = counting_list[idx]\n",
    "    if count > 0:\n",
    "        for idx_ in range(count):\n",
    "            print(idx)\n"
   ]
  },
  {
   "cell_type": "code",
   "execution_count": 16,
   "metadata": {},
   "outputs": [
    {
     "name": "stdout",
     "output_type": "stream",
     "text": [
      "1\n",
      "1\n",
      "2\n",
      "2\n",
      "3\n",
      "3\n",
      "4\n",
      "5\n",
      "5\n",
      "7\n"
     ]
    }
   ],
   "source": [
    "import sys\n",
    "\n",
    "sys.stdin = open('./test.txt')\n",
    "start_n = sys.stdin.readline()\n",
    "\n",
    "n = 10001\n",
    "num_range = list(range(1, n))\n",
    "count_list = [0] * n\n",
    "\n",
    "for i in sys.stdin:\n",
    "    count_list[int(i)] += 1\n",
    "\n",
    "for num in num_range:\n",
    "    count = count_list[num]\n",
    "    if count > 0:\n",
    "        for i in range(count):\n",
    "            print(num)"
   ]
  },
  {
   "cell_type": "code",
   "execution_count": null,
   "metadata": {},
   "outputs": [],
   "source": []
  }
 ],
 "metadata": {
  "kernelspec": {
   "display_name": "base",
   "language": "python",
   "name": "python3"
  },
  "language_info": {
   "codemirror_mode": {
    "name": "ipython",
    "version": 3
   },
   "file_extension": ".py",
   "mimetype": "text/x-python",
   "name": "python",
   "nbconvert_exporter": "python",
   "pygments_lexer": "ipython3",
   "version": "3.9.13"
  }
 },
 "nbformat": 4,
 "nbformat_minor": 2
}
