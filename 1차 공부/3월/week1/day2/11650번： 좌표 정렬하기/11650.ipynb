{
 "cells": [
  {
   "cell_type": "code",
   "execution_count": 25,
   "metadata": {},
   "outputs": [
    {
     "name": "stdout",
     "output_type": "stream",
     "text": [
      "[4, 1, -1, 2, 3]\n",
      "1 -1\n",
      "1 1\n",
      "2 2\n",
      "3 3\n",
      "3 4\n"
     ]
    }
   ],
   "source": [
    "import sys\n",
    "\n",
    "sys.stdin = open('./test.txt')\n",
    "\n",
    "contents = sys.stdin.readlines()\n",
    "\n",
    "range_num = int(contents[0])\n",
    "pair_int = [list(map(int, str_pair.split())) for str_pair in contents[1:]]\n",
    "\n",
    "x_list, y_list = [], []\n",
    "for x, y in pair_int:\n",
    "    x_list.append(x)\n",
    "    y_list.append(y)\n",
    "\n",
    "# step 1, x 좌표 기준 정렬 -> 2 때 y 도 같이 움직임"
   ]
  },
  {
   "cell_type": "code",
   "execution_count": 40,
   "metadata": {},
   "outputs": [],
   "source": [
    "sys.stdin = open('./test.txt')\n",
    "n = int(sys.stdin.readline())  # 입력 개수\n",
    "points = [list(map(int, sys.stdin.readline().split())) for _ in range(n)]\n",
    "\n",
    "points.sort(key=lambda point: (point[0]))\n",
    "\n",
    "# for idx, (x, y) in enumerate(points):\n",
    "#     if idx > 0:\n",
    "#         before_x = points[idx][0]\n",
    "#         diff = x - before_x\n",
    "\n",
    "#         if diff == 0:\n",
    "#             points.sort(key=lambda point: (point[1]))\n",
    "#             break\n",
    "\n",
    "# for x,y in points:\n",
    "#     print(x,y)\n"
   ]
  },
  {
   "cell_type": "code",
   "execution_count": 16,
   "metadata": {},
   "outputs": [
    {
     "name": "stdout",
     "output_type": "stream",
     "text": [
      "1 -1\n",
      "1 1\n",
      "2 2\n",
      "3 3\n",
      "3 4\n"
     ]
    }
   ],
   "source": [
    "import sys\n",
    "\n",
    "sys.stdin = open('./test.txt')\n",
    "line_count = int(sys.stdin.readline())\n",
    "x_y_list = [list(map(int, content.strip().split(' '))) for content in sys.stdin]\n",
    "x_y_list.sort(key = lambda points : (points[0], points[1])) # x_y_list.sort() \n",
    "# -> 첫번째 요소로 오름차순 이후, 값이 같다면 두번째 요소로 오름차순 정렬\n",
    "# \"-\" 를 붙이면 내림차순으로 가능\n",
    "\n",
    "for x, y in x_y_list:\n",
    "    print(x, y)"
   ]
  },
  {
   "cell_type": "code",
   "execution_count": null,
   "metadata": {},
   "outputs": [],
   "source": []
  },
  {
   "cell_type": "code",
   "execution_count": null,
   "metadata": {},
   "outputs": [],
   "source": []
  }
 ],
 "metadata": {
  "kernelspec": {
   "display_name": "base",
   "language": "python",
   "name": "python3"
  },
  "language_info": {
   "codemirror_mode": {
    "name": "ipython",
    "version": 3
   },
   "file_extension": ".py",
   "mimetype": "text/x-python",
   "name": "python",
   "nbconvert_exporter": "python",
   "pygments_lexer": "ipython3",
   "version": "3.9.13"
  }
 },
 "nbformat": 4,
 "nbformat_minor": 2
}
