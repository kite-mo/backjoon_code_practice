{
 "cells": [
  {
   "cell_type": "code",
   "execution_count": 23,
   "metadata": {},
   "outputs": [
    {
     "name": "stdout",
     "output_type": "stream",
     "text": [
      "['push', '1']\n"
     ]
    },
    {
     "ename": "SystemExit",
     "evalue": "",
     "output_type": "error",
     "traceback": [
      "An exception has occurred, use %tb to see the full traceback.\n",
      "\u001b[0;31mSystemExit\u001b[0m\n"
     ]
    }
   ],
   "source": [
    "import sys\n",
    "sys.stdin = open(\"./test1.txt\", \"r\")  # input.txt에서 입력값 읽기\n",
    "\n",
    "n = int(sys.stdin.readline())\n",
    "stack = []\n",
    "\n",
    "for _ in range(n):\n",
    "    row = sys.stdin.readline().strip().split()\n",
    "    \n",
    "    if len(row) > 1:\n",
    "        command, num = row[0], int(row[1]) \n",
    "    else:\n",
    "        command = row[0] # 정수 \n",
    "        \n",
    "    if command == 'push':\n",
    "        stack.append(num)\n",
    "    elif command == 'pop':\n",
    "        if len(stack) == 0:\n",
    "            print(-1)\n",
    "        else:\n",
    "            print(stack.pop())\n",
    "    elif command == 'size':\n",
    "        print(len(stack))\n",
    "    elif command == 'empty':\n",
    "        if len(stack) == 0:\n",
    "            print(1)\n",
    "        else:\n",
    "            print(0)\n",
    "    elif command == 'top':\n",
    "        if len(stack) == 0: # if not stack\n",
    "            print(-1)\n",
    "        else:\n",
    "            print(stack[-1])   "
   ]
  },
  {
   "cell_type": "code",
   "execution_count": 25,
   "metadata": {},
   "outputs": [
    {
     "name": "stdout",
     "output_type": "stream",
     "text": [
      "-1\n",
      "-1\n",
      "123\n",
      "123\n",
      "-1\n",
      "-1\n"
     ]
    }
   ],
   "source": [
    "import sys\n",
    "sys.stdin = open(\"./test2.txt\", \"r\")  # input.txt에서 입력값 읽기\n",
    "\n",
    "n = int(sys.stdin.readline())\n",
    "stack = []\n",
    "\n",
    "for _ in range(n):\n",
    "    row = sys.stdin.readline().strip().split()\n",
    "    \n",
    "    if len(row) > 1:\n",
    "        command, num = row[0], int(row[1])\n",
    "        stack.append(num)\n",
    "    else:\n",
    "        command = row[0] # 정수 \n",
    "        if command == 'pop':\n",
    "            print(stack.pop() if stack else -1)\n",
    "        elif command == 'size':\n",
    "            print(len(stack))\n",
    "        elif command == 'empty':\n",
    "            print(0 if stack else 1)\n",
    "        elif command == 'top':\n",
    "            print(stack[-1] if stack else -1)"
   ]
  },
  {
   "cell_type": "code",
   "execution_count": null,
   "metadata": {},
   "outputs": [],
   "source": []
  },
  {
   "cell_type": "code",
   "execution_count": null,
   "metadata": {},
   "outputs": [],
   "source": []
  }
 ],
 "metadata": {
  "kernelspec": {
   "display_name": "Python 3",
   "language": "python",
   "name": "python3"
  },
  "language_info": {
   "codemirror_mode": {
    "name": "ipython",
    "version": 3
   },
   "file_extension": ".py",
   "mimetype": "text/x-python",
   "name": "python",
   "nbconvert_exporter": "python",
   "pygments_lexer": "ipython3",
   "version": "3.9.13"
  }
 },
 "nbformat": 4,
 "nbformat_minor": 2
}
