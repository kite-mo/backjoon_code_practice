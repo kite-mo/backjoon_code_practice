{
 "cells": [
  {
   "cell_type": "code",
   "execution_count": 20,
   "metadata": {},
   "outputs": [
    {
     "name": "stdout",
     "output_type": "stream",
     "text": [
      "1\n",
      "2\n",
      "3\n",
      "4\n",
      "5\n"
     ]
    }
   ],
   "source": [
    "import sys\n",
    "\n",
    "sys.stdin = open('./test.txt')\n",
    "contents = sys.stdin.read().split()\n",
    "int_contents = list(map(int, contents))\n",
    "range_num = int_contents[0]\n",
    "question_num = int_contents[1:]\n",
    "\n",
    "for i in sorted(question_num):\n",
    "    print(i)\n",
    "\n",
    "# sys.stdout.write(\"\\n\".join(map(str, sorted(question_num))) + \"\\n\")\n",
    "\n",
    "\n",
    "# contents = [int(i) for i in sys.stdin.readlines()]\n",
    "# range_num = contents[0]\n",
    "# question_num = contents[1:]\n",
    "\n",
    "# for i in sorted(question_num):\n",
    "#     print(i)"
   ]
  },
  {
   "cell_type": "code",
   "execution_count": null,
   "metadata": {},
   "outputs": [],
   "source": []
  }
 ],
 "metadata": {
  "kernelspec": {
   "display_name": "base",
   "language": "python",
   "name": "python3"
  },
  "language_info": {
   "codemirror_mode": {
    "name": "ipython",
    "version": 3
   },
   "file_extension": ".py",
   "mimetype": "text/x-python",
   "name": "python",
   "nbconvert_exporter": "python",
   "pygments_lexer": "ipython3",
   "version": "3.9.13"
  }
 },
 "nbformat": 4,
 "nbformat_minor": 2
}
