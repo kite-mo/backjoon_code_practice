{
 "cells": [
  {
   "cell_type": "code",
   "execution_count": null,
   "metadata": {},
   "outputs": [],
   "source": [
    "import sys\n",
    "from collections import deque\n",
    "\n",
    "\n",
    "sys.stdin = open('./test.txt')\n",
    "N, M = map(int, sys.stdin.readline().split())\n",
    "#  map : iterable의 각 요소에 함수 하나를 순서대로 적용하는 함수\n",
    "# strip : 줄바꿈 제거\n",
    "maze = [list(map(int, line.strip())) for line in sys.stdin]\n",
    "\n",
    "def maze_bfs(maze, start_x, start_y, N, M):\n",
    "    queue = deque()\n",
    "    queue.append((start_x, start_y))\n",
    "    move_range = [(-1,0), (1,0), (0,-1), (0, 1)]\n",
    "\n",
    "    visited_check = [[False] * M for i in range(N)]\n",
    "    visited_check[start_x][start_y]=True\n",
    "\n",
    "    while queue:\n",
    "        check_x, check_y = queue.popleft()\n",
    "        for move_x, move_y in move_range:\n",
    "            nx, ny = check_x + move_x, check_y + move_y\n",
    "            if 0<=nx<N and 0<=ny<M and maze[nx][ny] == 1 and visited_check[nx][ny] != True:\n",
    "                maze[nx][ny] = maze[check_x][check_y] + 1\n",
    "                visited_check[nx][ny] = True\n",
    "                queue.append((nx, ny))\n",
    "    \n",
    "    return maze\n",
    "\n",
    "edit_maze = maze_bfs(maze, start_x=0, start_y=0, N = N, M = M)\n",
    "print(edit_maze[N-1][M-1])"
   ]
  },
  {
   "cell_type": "code",
   "execution_count": 2,
   "metadata": {},
   "outputs": [
    {
     "name": "stdout",
     "output_type": "stream",
     "text": [
      "deque([])\n",
      "deque([(1, 0), (0, 1)])\n",
      "deque([(0, 1)])\n",
      "deque([(0, 1), (2, 0), (1, 1)])\n",
      "deque([(2, 0), (1, 1)])\n",
      "deque([(2, 0), (1, 1)])\n",
      "deque([(1, 1)])\n",
      "deque([(1, 1), (3, 0), (2, 1)])\n",
      "deque([(3, 0), (2, 1)])\n",
      "deque([(3, 0), (2, 1)])\n",
      "deque([(2, 1)])\n",
      "deque([(2, 1), (3, 1)])\n",
      "deque([(3, 1)])\n",
      "deque([(3, 1), (2, 2)])\n",
      "deque([(2, 2)])\n",
      "deque([(2, 2), (3, 2)])\n",
      "deque([(3, 2)])\n",
      "deque([(3, 2), (2, 3)])\n",
      "deque([(2, 3)])\n",
      "deque([(2, 3), (3, 3)])\n",
      "deque([(3, 3)])\n",
      "deque([(3, 3), (1, 3), (2, 4)])\n",
      "deque([(1, 3), (2, 4)])\n",
      "deque([(1, 3), (2, 4)])\n",
      "deque([(2, 4)])\n",
      "deque([(2, 4), (0, 3), (1, 4)])\n",
      "deque([(0, 3), (1, 4)])\n",
      "deque([(0, 3), (1, 4), (2, 5)])\n",
      "deque([(1, 4), (2, 5)])\n",
      "deque([(1, 4), (2, 5), (0, 4)])\n",
      "deque([(2, 5), (0, 4)])\n",
      "deque([(2, 5), (0, 4)])\n",
      "deque([(0, 4)])\n",
      "deque([(0, 4), (3, 5)])\n",
      "deque([(3, 5)])\n",
      "deque([(3, 5)])\n",
      "deque([])\n",
      "deque([])\n"
     ]
    }
   ],
   "source": [
    "import sys \n",
    "from collections import deque\n",
    "\n",
    "sys.stdin = open('./test.txt')\n",
    "N, M = list(map(int, sys.stdin.readline().strip().split()))\n",
    "contents = sys.stdin.readlines()\n",
    "maze = []\n",
    "for line in contents:\n",
    "    maze.append([i for i in list(map(int, line.strip()))])\n",
    "\n",
    "start_x, start_y = 0, 0\n",
    "move_range = [(-1,0), (1,0), (0,1), (0,-1)]\n",
    "check_points = [[False]*M for i in range(N)]\n",
    "check_points[start_x][start_y] = True\n",
    "\n",
    "queue = deque()\n",
    "queue.append((start_x, start_y))\n",
    "while queue:\n",
    "    x, y = queue.popleft()\n",
    "    print(queue)\n",
    "    for move_x, move_y in move_range:\n",
    "        nx = x + move_x\n",
    "        ny = y + move_y\n",
    "\n",
    "        if 0<=nx<N and 0<=ny<M and maze[nx][ny] == 1 and check_points[nx][ny] != True:\n",
    "            maze[nx][ny] += maze[x][y]\n",
    "            check_points[nx][ny] = True\n",
    "            queue.append((nx, ny))\n",
    "    print(queue)"
   ]
  },
  {
   "cell_type": "code",
   "execution_count": 3,
   "metadata": {},
   "outputs": [
    {
     "data": {
      "text/plain": [
       "[[1, 2, 0, 8, 9, 0],\n",
       " [2, 3, 0, 7, 8, 0],\n",
       " [3, 4, 5, 6, 7, 8],\n",
       " [4, 5, 6, 7, 0, 9]]"
      ]
     },
     "execution_count": 3,
     "metadata": {},
     "output_type": "execute_result"
    }
   ],
   "source": [
    "maze"
   ]
  },
  {
   "cell_type": "code",
   "execution_count": null,
   "metadata": {},
   "outputs": [],
   "source": [
    "check_points"
   ]
  },
  {
   "cell_type": "code",
   "execution_count": null,
   "metadata": {},
   "outputs": [],
   "source": []
  },
  {
   "cell_type": "code",
   "execution_count": null,
   "metadata": {},
   "outputs": [],
   "source": []
  },
  {
   "cell_type": "code",
   "execution_count": null,
   "metadata": {},
   "outputs": [],
   "source": []
  }
 ],
 "metadata": {
  "kernelspec": {
   "display_name": "base",
   "language": "python",
   "name": "python3"
  },
  "language_info": {
   "codemirror_mode": {
    "name": "ipython",
    "version": 3
   },
   "file_extension": ".py",
   "mimetype": "text/x-python",
   "name": "python",
   "nbconvert_exporter": "python",
   "pygments_lexer": "ipython3",
   "version": "undefined.undefined.undefined"
  }
 },
 "nbformat": 4,
 "nbformat_minor": 2
}
