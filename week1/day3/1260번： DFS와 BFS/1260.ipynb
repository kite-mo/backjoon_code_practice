{
 "cells": [
  {
   "cell_type": "code",
   "execution_count": 28,
   "metadata": {},
   "outputs": [
    {
     "name": "stdout",
     "output_type": "stream",
     "text": [
      "1 2 4 3\n",
      "1 2 3 4\n"
     ]
    }
   ],
   "source": [
    "import sys\n",
    "from collections import deque\n",
    "\n",
    "def DFS(graph, start_node):\n",
    "    visited = set()\n",
    "    stack = [start_node]\n",
    "    out_node_list = []\n",
    "\n",
    "    while stack:\n",
    "        out_node = stack.pop()\n",
    "\n",
    "        if out_node not in visited:\n",
    "            out_node_list.append(out_node)\n",
    "            visited.add(out_node)\n",
    "\n",
    "            for neighbor in reversed(graph[out_node]):\n",
    "                if neighbor not in visited:\n",
    "                    stack.append(neighbor)\n",
    "    \n",
    "    return out_node_list\n",
    "\n",
    "def BFS(graph, start_node):\n",
    "\n",
    "    visited = set()\n",
    "    queue = deque()\n",
    "    queue.append(start_node)\n",
    "    out_node_list = []\n",
    "\n",
    "    while queue:\n",
    "        out_node = queue.popleft()\n",
    "\n",
    "        if out_node not in visited:\n",
    "            out_node_list.append(out_node)\n",
    "            visited.add(out_node)\n",
    "\n",
    "            for neighbor in graph[out_node]:\n",
    "                if neighbor not in visited:\n",
    "                    queue.append(neighbor)\n",
    "\n",
    "    return out_node_list\n",
    "\n",
    "sys.stdin = open('./test.txt')\n",
    "node_num, line_num, start_node = map(int, sys.stdin.readline().split())\n",
    "\n",
    "graph = {}\n",
    "\n",
    "for node_name in range(1, node_num+1):\n",
    "    graph[node_name] = []\n",
    "\n",
    "for row in sys.stdin:\n",
    "    parent_node, child_node = map(int,row.split())\n",
    "    graph[parent_node].append(child_node)\n",
    "    graph[child_node].append(parent_node)\n",
    "\n",
    "# 🔧 여기서 오름차순 정렬!\n",
    "for key in graph:\n",
    "    graph[key].sort()\n",
    "    \n",
    "dfs_result = DFS(graph, start_node)\n",
    "bfs_result = BFS(graph, start_node)\n",
    "\n",
    "print(' '.join(map(str, dfs_result)))\n",
    "print(' '.join(map(str, bfs_result)))\n",
    "\n"
   ]
  },
  {
   "cell_type": "code",
   "execution_count": 19,
   "metadata": {},
   "outputs": [
    {
     "data": {
      "text/plain": [
       "[]"
      ]
     },
     "execution_count": 19,
     "metadata": {},
     "output_type": "execute_result"
    }
   ],
   "source": [
    "dfs_result"
   ]
  },
  {
   "cell_type": "code",
   "execution_count": null,
   "metadata": {},
   "outputs": [],
   "source": []
  },
  {
   "cell_type": "code",
   "execution_count": null,
   "metadata": {},
   "outputs": [],
   "source": []
  }
 ],
 "metadata": {
  "kernelspec": {
   "display_name": "base",
   "language": "python",
   "name": "python3"
  },
  "language_info": {
   "codemirror_mode": {
    "name": "ipython",
    "version": 3
   },
   "file_extension": ".py",
   "mimetype": "text/x-python",
   "name": "python",
   "nbconvert_exporter": "python",
   "pygments_lexer": "ipython3",
   "version": "3.9.13"
  }
 },
 "nbformat": 4,
 "nbformat_minor": 2
}
