{
 "cells": [
  {
   "cell_type": "code",
   "execution_count": 17,
   "metadata": {},
   "outputs": [
    {
     "name": "stdout",
     "output_type": "stream",
     "text": [
      "1 3 5 7 4 2 6\n"
     ]
    }
   ],
   "source": [
    "import sys\n",
    "from collections import deque\n",
    "\n",
    "sys.stdin = open('./test.txt')\n",
    "N = int(sys.stdin.readline().strip())\n",
    "N_deque = deque(range(1, N+1))\n",
    "out_node_list = []\n",
    "\n",
    "while len(N_deque) != 1:\n",
    "    out_node = N_deque.popleft()\n",
    "    N_deque.append(N_deque.popleft())\n",
    "    out_node_list.append(out_node)\n",
    "\n",
    "last_node = N_deque[0]\n",
    "out_node_list.append(last_node)\n",
    "\n",
    "result = ''\n",
    "for i in out_node_list:\n",
    "    result+=str(i) + ' '\n",
    "print(result[:-1])"
   ]
  },
  {
   "cell_type": "code",
   "execution_count": 15,
   "metadata": {},
   "outputs": [
    {
     "data": {
      "text/plain": [
       "'1 3 5 7 4 2 6'"
      ]
     },
     "execution_count": 15,
     "metadata": {},
     "output_type": "execute_result"
    }
   ],
   "source": [
    "result = ''\n",
    "for i in out_node_list:\n",
    "    result+=str(i) + ' '\n",
    "result[:-1]"
   ]
  },
  {
   "cell_type": "code",
   "execution_count": null,
   "metadata": {},
   "outputs": [],
   "source": []
  },
  {
   "cell_type": "code",
   "execution_count": null,
   "metadata": {},
   "outputs": [],
   "source": []
  },
  {
   "cell_type": "code",
   "execution_count": null,
   "metadata": {},
   "outputs": [],
   "source": []
  }
 ],
 "metadata": {
  "kernelspec": {
   "display_name": "base",
   "language": "python",
   "name": "python3"
  },
  "language_info": {
   "codemirror_mode": {
    "name": "ipython",
    "version": 3
   },
   "file_extension": ".py",
   "mimetype": "text/x-python",
   "name": "python",
   "nbconvert_exporter": "python",
   "pygments_lexer": "ipython3",
   "version": "3.9.13"
  }
 },
 "nbformat": 4,
 "nbformat_minor": 2
}
