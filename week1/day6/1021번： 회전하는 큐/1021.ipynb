{
 "cells": [
  {
   "cell_type": "code",
   "execution_count": 135,
   "metadata": {},
   "outputs": [
    {
     "name": "stdout",
     "output_type": "stream",
     "text": [
      "14\n"
     ]
    }
   ],
   "source": [
    "import sys\n",
    "from collections import deque\n",
    "\n",
    "sys.stdin = open('./test.txt')\n",
    "N, M = list(map(int, sys.stdin.readline().strip().split()))\n",
    "\n",
    "N_deque = deque(range(1, N + 1)) # index unique 값으로 구성된 deque 라고 생각해보자\n",
    "target_deque = deque(map(int, sys.stdin.readline().strip().split()))\n",
    "func_count = 0\n",
    "\n",
    "while target_deque:\n",
    "    target_place = target_deque[0]\n",
    "    half_size = len(N_deque) // 2\n",
    "    target_index = N_deque.index(target_place)\n",
    "\n",
    "    if target_index == 0:\n",
    "        N_deque.popleft()\n",
    "        target_deque.popleft()\n",
    "    \n",
    "    elif target_index <= half_size:\n",
    "        for i in range(target_index):\n",
    "            N_deque.append(N_deque.popleft())\n",
    "            func_count += 1\n",
    "        N_deque.popleft()\n",
    "        target_deque.popleft()\n",
    "    \n",
    "    else:\n",
    "        for i in range(len(N_deque) - target_index):\n",
    "            N_deque.appendleft(N_deque.pop())\n",
    "            func_count += 1\n",
    "        N_deque.popleft()\n",
    "        target_deque.popleft()\n",
    "\n",
    "print(func_count)"
   ]
  },
  {
   "cell_type": "code",
   "execution_count": 140,
   "metadata": {},
   "outputs": [
    {
     "name": "stdout",
     "output_type": "stream",
     "text": [
      "14\n"
     ]
    }
   ],
   "source": [
    "import sys\n",
    "from collections import deque\n",
    "\n",
    "sys.stdin = open('./test.txt')\n",
    "N, M = list(map(int, sys.stdin.readline().strip().split()))\n",
    "\n",
    "N_deque = deque(range(1, N + 1)) # index unique 값으로 구성된 deque 라고 생각해보자\n",
    "N_deque = deque([(idx+1, num) for idx, num in enumerate(N_deque)])\n",
    "\n",
    "target_deque = deque(map(int, sys.stdin.readline().strip().split()))\n",
    "func_count = 0\n",
    "\n",
    "while target_deque:\n",
    "    target_place = target_deque[0]\n",
    "    half_size = len(N_deque) // 2\n",
    "    \n",
    "    for target_index, (N_index, N_num) in enumerate(N_deque):\n",
    "        if N_index == target_place:\n",
    "            break\n",
    "        \n",
    "    if target_index == 0:\n",
    "        N_deque.popleft()\n",
    "        target_deque.popleft()\n",
    "    \n",
    "    elif target_index <= half_size:\n",
    "        for i in range(target_index):\n",
    "            N_deque.append(N_deque.popleft())\n",
    "            func_count += 1\n",
    "        N_deque.popleft()\n",
    "        target_deque.popleft()\n",
    "    \n",
    "    else:\n",
    "        for i in range(len(N_deque) - target_index):\n",
    "            N_deque.appendleft(N_deque.pop())\n",
    "            func_count += 1\n",
    "        N_deque.popleft()\n",
    "        target_deque.popleft()\n",
    "\n",
    "print(func_count)"
   ]
  },
  {
   "cell_type": "code",
   "execution_count": null,
   "metadata": {},
   "outputs": [],
   "source": []
  },
  {
   "cell_type": "code",
   "execution_count": null,
   "metadata": {},
   "outputs": [],
   "source": []
  },
  {
   "cell_type": "code",
   "execution_count": null,
   "metadata": {},
   "outputs": [],
   "source": []
  },
  {
   "cell_type": "code",
   "execution_count": null,
   "metadata": {},
   "outputs": [],
   "source": []
  }
 ],
 "metadata": {
  "kernelspec": {
   "display_name": "base",
   "language": "python",
   "name": "python3"
  },
  "language_info": {
   "codemirror_mode": {
    "name": "ipython",
    "version": 3
   },
   "file_extension": ".py",
   "mimetype": "text/x-python",
   "name": "python",
   "nbconvert_exporter": "python",
   "pygments_lexer": "ipython3",
   "version": "3.9.13"
  }
 },
 "nbformat": 4,
 "nbformat_minor": 2
}
