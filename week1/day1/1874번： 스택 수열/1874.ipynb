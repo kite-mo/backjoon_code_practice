{
 "cells": [
  {
   "cell_type": "code",
   "execution_count": 23,
   "metadata": {},
   "outputs": [],
   "source": [
    "import sys\n",
    "\n",
    "sys.stdin = open(\"./test1.txt\", \"r\")  # input.txt에서 입력값 읽기"
   ]
  },
  {
   "cell_type": "code",
   "execution_count": 24,
   "metadata": {},
   "outputs": [
    {
     "name": "stdout",
     "output_type": "stream",
     "text": [
      "NO\n"
     ]
    }
   ],
   "source": [
    "import sys\n",
    "\n",
    "read_contents = sys.stdin.readlines()\n",
    "range_num = int(read_contents[0])\n",
    "problem_contents = [int(content) for content in read_contents[1:]]\n",
    "\n",
    "corrected_array = problem_contents\n",
    "stack = []\n",
    "result = []\n",
    "count_num = 0\n",
    "for num in range(1, range_num + 1):\n",
    "    stack.append(num)\n",
    "    result.append('+')\n",
    "    while stack and stack[-1] == corrected_array[count_num]:\n",
    "        stack.pop()\n",
    "        result.append('-')\n",
    "        count_num += 1\n",
    "\n",
    "if len(corrected_array) != count_num:\n",
    "    result = 'NO'\n",
    "    print(result)\n",
    "else:\n",
    "    for go in result:\n",
    "        print(go)"
   ]
  },
  {
   "cell_type": "code",
   "execution_count": 18,
   "metadata": {},
   "outputs": [
    {
     "data": {
      "text/plain": [
       "[4, 3, 6, 8, 7, 5, 2, 1]"
      ]
     },
     "execution_count": 18,
     "metadata": {},
     "output_type": "execute_result"
    }
   ],
   "source": [
    "problem_contents"
   ]
  },
  {
   "cell_type": "code",
   "execution_count": null,
   "metadata": {},
   "outputs": [],
   "source": []
  },
  {
   "cell_type": "code",
   "execution_count": null,
   "metadata": {},
   "outputs": [],
   "source": []
  },
  {
   "cell_type": "code",
   "execution_count": null,
   "metadata": {},
   "outputs": [],
   "source": []
  },
  {
   "cell_type": "code",
   "execution_count": null,
   "metadata": {},
   "outputs": [],
   "source": []
  },
  {
   "cell_type": "code",
   "execution_count": null,
   "metadata": {},
   "outputs": [],
   "source": []
  },
  {
   "cell_type": "code",
   "execution_count": null,
   "metadata": {},
   "outputs": [],
   "source": []
  },
  {
   "cell_type": "code",
   "execution_count": null,
   "metadata": {},
   "outputs": [],
   "source": []
  },
  {
   "cell_type": "code",
   "execution_count": null,
   "metadata": {},
   "outputs": [],
   "source": [
    "sys.stdin = open(\"./test1.txt\", \"r\")  # input.txt에서 입력값 읽기\n",
    "n = int(sys.stdin.readline())\n",
    "num_range = list(range(1, n + 1))\n",
    "\n",
    "stack = []\n",
    "correct_arrays = [int(row) for row in sys.stdin.read().splitlines()]\n",
    "count_num = 0\n",
    "\n",
    "stack = []\n",
    "result = []\n",
    "for num in num_range:\n",
    "    stack.append(num)\n",
    "    result.append('+')\n",
    "\n",
    "    while stack and stack[-1] == correct_arrays[count_num]:\n",
    "        result.append('-')\n",
    "        stack.pop()\n",
    "        count_num+=1    \n",
    "\n",
    "if  count_num != len(correct_arrays):\n",
    "    print('NO')\n",
    "else:\n",
    "    for re in result:\n",
    "        print(re)\n",
    "    \n",
    "    # sys.stdout.write(\"\\n\".join(result) + \"\\n\")  # 한 번에 출력 (더 빠름)"
   ]
  },
  {
   "cell_type": "code",
   "execution_count": null,
   "metadata": {},
   "outputs": [],
   "source": [
    "stack"
   ]
  },
  {
   "cell_type": "code",
   "execution_count": null,
   "metadata": {},
   "outputs": [],
   "source": []
  },
  {
   "cell_type": "code",
   "execution_count": null,
   "metadata": {},
   "outputs": [],
   "source": []
  },
  {
   "cell_type": "code",
   "execution_count": null,
   "metadata": {},
   "outputs": [],
   "source": []
  }
 ],
 "metadata": {
  "kernelspec": {
   "display_name": "base",
   "language": "python",
   "name": "python3"
  },
  "language_info": {
   "codemirror_mode": {
    "name": "ipython",
    "version": 3
   },
   "file_extension": ".py",
   "mimetype": "text/x-python",
   "name": "python",
   "nbconvert_exporter": "python",
   "pygments_lexer": "ipython3",
   "version": "3.9.13"
  }
 },
 "nbformat": 4,
 "nbformat_minor": 2
}
