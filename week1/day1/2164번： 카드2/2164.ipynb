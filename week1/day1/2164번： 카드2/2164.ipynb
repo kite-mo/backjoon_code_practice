{
 "cells": [
  {
   "cell_type": "code",
   "execution_count": 20,
   "metadata": {},
   "outputs": [
    {
     "name": "stdout",
     "output_type": "stream",
     "text": [
      "4\n"
     ]
    }
   ],
   "source": [
    "import sys\n",
    "from collections import deque\n",
    "\n",
    "sys.stdin = open('./test.txt')\n",
    "read_contents = sys.stdin.readlines()\n",
    "range_num = int(read_contents[0])\n",
    "\n",
    "queue = deque()\n",
    "for num in range(1, range_num +1):\n",
    "    queue.append(num)\n",
    "\n",
    "queue = deque(range(1, range_num + 1))  # 1부터 n까지 큐에 추가\n",
    "\n",
    "while len(queue) != 1:\n",
    "    first_out_num = queue.popleft()\n",
    "    second_out_num = queue.popleft()\n",
    "    queue.append(second_out_num)\n",
    "\n",
    "result = queue[0]\n",
    "print(result)"
   ]
  },
  {
   "cell_type": "code",
   "execution_count": null,
   "metadata": {},
   "outputs": [],
   "source": []
  },
  {
   "cell_type": "code",
   "execution_count": null,
   "metadata": {},
   "outputs": [],
   "source": []
  },
  {
   "cell_type": "code",
   "execution_count": null,
   "metadata": {},
   "outputs": [],
   "source": []
  }
 ],
 "metadata": {
  "kernelspec": {
   "display_name": "base",
   "language": "python",
   "name": "python3"
  },
  "language_info": {
   "codemirror_mode": {
    "name": "ipython",
    "version": 3
   },
   "file_extension": ".py",
   "mimetype": "text/x-python",
   "name": "python",
   "nbconvert_exporter": "python",
   "pygments_lexer": "ipython3",
   "version": "3.9.13"
  }
 },
 "nbformat": 4,
 "nbformat_minor": 2
}
