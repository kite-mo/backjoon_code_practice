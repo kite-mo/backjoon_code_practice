{
 "cells": [
  {
   "cell_type": "code",
   "execution_count": 4,
   "metadata": {},
   "outputs": [
    {
     "name": "stdout",
     "output_type": "stream",
     "text": [
      "1\n",
      "2\n",
      "2\n",
      "0\n",
      "1\n",
      "2\n",
      "-1\n",
      "0\n",
      "1\n",
      "-1\n",
      "0\n",
      "3\n"
     ]
    }
   ],
   "source": [
    "import sys\n",
    "from collections import deque\n",
    "# sys.stdin = open(\"./test.txt\", \"r\")  # input.txt에서 입력값 읽기\n",
    "\n",
    "n = int(sys.stdin.readline())\n",
    "stack = deque()\n",
    "\n",
    "for _ in range(n):\n",
    "    row = sys.stdin.readline().strip().split()\n",
    "    if len(row) > 1:\n",
    "        command, num = row[0], int(row[1])\n",
    "        stack.append(num)\n",
    "    else:\n",
    "        command = row[0]\n",
    "        if command == 'pop':\n",
    "            print(stack.popleft() if stack else -1)\n",
    "        elif command == 'size':\n",
    "            print(len(stack))\n",
    "        elif command == 'empty':\n",
    "            print(0 if stack else 1)\n",
    "        elif command == 'front':\n",
    "            print(stack[0] if stack else -1)\n",
    "        elif command == 'back':\n",
    "            print(stack[-1] if stack else -1)"
   ]
  },
  {
   "cell_type": "code",
   "execution_count": null,
   "metadata": {},
   "outputs": [],
   "source": []
  },
  {
   "cell_type": "code",
   "execution_count": null,
   "metadata": {},
   "outputs": [],
   "source": []
  },
  {
   "cell_type": "code",
   "execution_count": null,
   "metadata": {},
   "outputs": [],
   "source": []
  }
 ],
 "metadata": {
  "kernelspec": {
   "display_name": "base",
   "language": "python",
   "name": "python3"
  },
  "language_info": {
   "codemirror_mode": {
    "name": "ipython",
    "version": 3
   },
   "file_extension": ".py",
   "mimetype": "text/x-python",
   "name": "python",
   "nbconvert_exporter": "python",
   "pygments_lexer": "ipython3",
   "version": "3.9.13"
  }
 },
 "nbformat": 4,
 "nbformat_minor": 2
}
